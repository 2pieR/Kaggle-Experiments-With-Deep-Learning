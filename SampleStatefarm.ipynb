{
 "cells": [
  {
   "cell_type": "code",
   "execution_count": 15,
   "metadata": {
    "collapsed": false
   },
   "outputs": [],
   "source": [
    "from theano.sandbox import cuda\n",
    "cuda.use('gpu')"
   ]
  },
  {
   "cell_type": "code",
   "execution_count": 3,
   "metadata": {
    "collapsed": false
   },
   "outputs": [
    {
     "name": "stderr",
     "output_type": "stream",
     "text": [
      "Using Theano backend.\n"
     ]
    }
   ],
   "source": [
    "import keras\n",
    "from keras.layers.normalization import BatchNormalization\n",
    "import keras.layers\n",
    "from keras.layers import Dropout"
   ]
  },
  {
   "cell_type": "code",
   "execution_count": 4,
   "metadata": {
    "collapsed": true
   },
   "outputs": [],
   "source": [
    "\n",
    "from utils import *\n",
    "%matplotlib inline"
   ]
  },
  {
   "cell_type": "code",
   "execution_count": 5,
   "metadata": {
    "collapsed": true
   },
   "outputs": [],
   "source": [
    "import os,sys\n",
    "current_dir = os.getcwd()\n",
    "Data_dir = current_dir+'/data/statefarm/'"
   ]
  },
  {
   "cell_type": "code",
   "execution_count": 6,
   "metadata": {
    "collapsed": true
   },
   "outputs": [],
   "source": [
    "#path = Data_dir+'/sample/' #sample path\n",
    "path = Data_dir"
   ]
  },
  {
   "cell_type": "code",
   "execution_count": 7,
   "metadata": {
    "collapsed": true
   },
   "outputs": [],
   "source": [
    "import bcolz\n",
    "def save_array(fname, arr): c=bcolz.carray(arr, rootdir=fname, mode='w'); c.flush()\n",
    "def load_array(fname): return bcolz.open(fname)[:]\n",
    "def load_carray(fname): return bcolz.open(fname)"
   ]
  },
  {
   "cell_type": "code",
   "execution_count": 8,
   "metadata": {
    "collapsed": true
   },
   "outputs": [],
   "source": [
    "batch_size=64"
   ]
  },
  {
   "cell_type": "code",
   "execution_count": 9,
   "metadata": {
    "collapsed": false
   },
   "outputs": [
    {
     "name": "stdout",
     "output_type": "stream",
     "text": [
      "Found 20244 images belonging to 10 classes.\n"
     ]
    }
   ],
   "source": [
    "#generate an augmented train batch\n",
    "imgGen = image.ImageDataGenerator(rotation_range=15, height_shift_range=0.05,shear_range=0.1, channel_shift_range=20, width_shift_range=0.1)\n",
    "\n",
    "augmentTrainBatch = imgGen.flow_from_directory(directory=path+'train', batch_size=64, target_size=(224,224), shuffle=False, class_mode='categorical')\n",
    "              "
   ]
  },
  {
   "cell_type": "code",
   "execution_count": 10,
   "metadata": {
    "collapsed": false
   },
   "outputs": [],
   "source": [
    "#generate a new validation batch\n",
    "batches =augmentTrainBatch\n"
   ]
  },
  {
   "cell_type": "code",
   "execution_count": 11,
   "metadata": {
    "collapsed": false
   },
   "outputs": [
    {
     "ename": "NameError",
     "evalue": "name 'val_batches' is not defined",
     "output_type": "error",
     "traceback": [
      "\u001b[0;31m---------------------------------------------------------------------------\u001b[0m",
      "\u001b[0;31mNameError\u001b[0m                                 Traceback (most recent call last)",
      "\u001b[0;32m<ipython-input-11-9c4e62cfe0a3>\u001b[0m in \u001b[0;36m<module>\u001b[0;34m()\u001b[0m\n\u001b[1;32m      1\u001b[0m \u001b[0;31m#display images\u001b[0m\u001b[0;34m\u001b[0m\u001b[0;34m\u001b[0m\u001b[0m\n\u001b[0;32m----> 2\u001b[0;31m \u001b[0mimg\u001b[0m\u001b[0;34m,\u001b[0m\u001b[0mlbl\u001b[0m \u001b[0;34m=\u001b[0m \u001b[0mval_batches\u001b[0m\u001b[0;34m.\u001b[0m\u001b[0mnext\u001b[0m\u001b[0;34m(\u001b[0m\u001b[0;34m)\u001b[0m\u001b[0;34m\u001b[0m\u001b[0m\n\u001b[0m\u001b[1;32m      3\u001b[0m \u001b[0mplots\u001b[0m\u001b[0;34m(\u001b[0m\u001b[0mimg\u001b[0m\u001b[0;34m[\u001b[0m\u001b[0;34m:\u001b[0m\u001b[0;36m4\u001b[0m\u001b[0;34m]\u001b[0m\u001b[0;34m,\u001b[0m \u001b[0mtitles\u001b[0m\u001b[0;34m=\u001b[0m\u001b[0mhotone\u001b[0m\u001b[0;34m(\u001b[0m\u001b[0mlbl\u001b[0m\u001b[0;34m[\u001b[0m\u001b[0;34m:\u001b[0m\u001b[0;36m4\u001b[0m\u001b[0;34m]\u001b[0m\u001b[0;34m)\u001b[0m\u001b[0;34m)\u001b[0m\u001b[0;34m\u001b[0m\u001b[0m\n",
      "\u001b[0;31mNameError\u001b[0m: name 'val_batches' is not defined"
     ]
    }
   ],
   "source": [
    "#display images\n",
    "img,lbl = val_batches.next()\n",
    "plots(img[:4], titles=hotone(lbl[:4]))"
   ]
  },
  {
   "cell_type": "code",
   "execution_count": null,
   "metadata": {
    "collapsed": true
   },
   "outputs": [],
   "source": [
    "val_batches.reset()"
   ]
  },
  {
   "cell_type": "code",
   "execution_count": 9,
   "metadata": {
    "collapsed": false
   },
   "outputs": [
    {
     "name": "stdout",
     "output_type": "stream",
     "text": [
      "Found 2180 images belonging to 10 classes.\n"
     ]
    }
   ],
   "source": [
    "val_batches = get_batches(path+'valid', batch_size=batch_size, shuffle=False,  target_size=(224,224))"
   ]
  },
  {
   "cell_type": "code",
   "execution_count": 63,
   "metadata": {
    "collapsed": false
   },
   "outputs": [],
   "source": [
    "train_label_arr=onehot(batches.classes)\n",
    "train_file_names_arr=batches.filenames\n"
   ]
  },
  {
   "cell_type": "code",
   "execution_count": 11,
   "metadata": {
    "collapsed": false
   },
   "outputs": [],
   "source": [
    "valid_label_arr=onehot(val_batches.classes)\n",
    "valid_file_names_arr=val_batches.filenames"
   ]
  },
  {
   "cell_type": "code",
   "execution_count": 50,
   "metadata": {
    "collapsed": false
   },
   "outputs": [
    {
     "name": "stdout",
     "output_type": "stream",
     "text": [
      "Found 79726 images belonging to 1 classes.\n"
     ]
    }
   ],
   "source": [
    "test_batch =  get_batches(path+'test', batch_size=batch_size, shuffle=False,  target_size=(224,224), class_mode='binary')\n",
    "test_file_names_arr=test_batch.filenames"
   ]
  },
  {
   "cell_type": "code",
   "execution_count": 64,
   "metadata": {
    "collapsed": true
   },
   "outputs": [],
   "source": [
    "\n",
    "save_array(\"train_label_arr\", train_label_arr)\n",
    "save_array(\"train_file_names_arr\", train_file_names_arr)"
   ]
  },
  {
   "cell_type": "code",
   "execution_count": 14,
   "metadata": {
    "collapsed": true
   },
   "outputs": [],
   "source": [
    "save_array(\"valid_label_arr\", valid_label_arr)\n",
    "save_array(\"valid_file_names_arr\", valid_file_names_arr)"
   ]
  },
  {
   "cell_type": "code",
   "execution_count": 15,
   "metadata": {
    "collapsed": true
   },
   "outputs": [],
   "source": [
    "save_array(\"test_file_names_arr\", test_file_names_arr)"
   ]
  },
  {
   "cell_type": "code",
   "execution_count": 15,
   "metadata": {
    "collapsed": true
   },
   "outputs": [],
   "source": [
    "train_label_arr = load_array(\"train_label_arr\")\n",
    "train_file_names_arr = load_array(\"train_file_names_arr\")"
   ]
  },
  {
   "cell_type": "code",
   "execution_count": 16,
   "metadata": {
    "collapsed": true
   },
   "outputs": [],
   "source": [
    "valid_label_arr = load_array(\"valid_label_arr\")\n",
    "valid_file_names_arr = load_array(\"valid_file_names_arr\")"
   ]
  },
  {
   "cell_type": "code",
   "execution_count": 65,
   "metadata": {
    "collapsed": false
   },
   "outputs": [
    {
     "data": {
      "text/plain": [
       "(20244, 10)"
      ]
     },
     "execution_count": 65,
     "metadata": {},
     "output_type": "execute_result"
    }
   ],
   "source": [
    "train_label_arr.shape"
   ]
  },
  {
   "cell_type": "code",
   "execution_count": 18,
   "metadata": {
    "collapsed": true
   },
   "outputs": [],
   "source": [
    "import vgg16"
   ]
  },
  {
   "cell_type": "code",
   "execution_count": 19,
   "metadata": {
    "collapsed": true
   },
   "outputs": [],
   "source": [
    "vggModel=Vgg16()"
   ]
  },
  {
   "cell_type": "code",
   "execution_count": null,
   "metadata": {
    "collapsed": false
   },
   "outputs": [],
   "source": [
    "vggModel.model.summary()"
   ]
  },
  {
   "cell_type": "code",
   "execution_count": 21,
   "metadata": {
    "collapsed": false
   },
   "outputs": [
    {
     "name": "stdout",
     "output_type": "stream",
     "text": [
      "last conv layer index 37\n"
     ]
    }
   ],
   "source": [
    "lastConvIndex = -1\n",
    "for i in range(len(vggModel.model.layers)):\n",
    "    if (type(vggModel.model.layers[i]) == Convolution2D):\n",
    "        lastConvIndex=i\n",
    "        \n",
    "print ('last conv layer index ' + str(i) )"
   ]
  },
  {
   "cell_type": "code",
   "execution_count": 22,
   "metadata": {
    "collapsed": true
   },
   "outputs": [],
   "source": [
    "convLayers= vggModel.model.layers[:lastConvIndex+1]"
   ]
  },
  {
   "cell_type": "code",
   "execution_count": 23,
   "metadata": {
    "collapsed": true
   },
   "outputs": [],
   "source": [
    "\n",
    "vggConvLayersModel = Sequential(convLayers)"
   ]
  },
  {
   "cell_type": "code",
   "execution_count": 24,
   "metadata": {
    "collapsed": true
   },
   "outputs": [],
   "source": [
    "batch_size=32"
   ]
  },
  {
   "cell_type": "code",
   "execution_count": 78,
   "metadata": {
    "collapsed": false
   },
   "outputs": [],
   "source": [
    "NepredictTrainVggConv = vggConvLayersModel.predict_generator(batches, batches.N)"
   ]
  },
  {
   "cell_type": "code",
   "execution_count": 28,
   "metadata": {
    "collapsed": true
   },
   "outputs": [],
   "source": [
    "\n",
    "predictValidationVggConv = vggConvLayersModel.predict_generator(val_batches, val_batches.N)"
   ]
  },
  {
   "cell_type": "code",
   "execution_count": 16,
   "metadata": {
    "collapsed": true
   },
   "outputs": [],
   "source": [
    "predict_test_on_VggConv = vggConvLayersModel.predict_generator(test_batch, test_batch.N)"
   ]
  },
  {
   "cell_type": "code",
   "execution_count": 79,
   "metadata": {
    "collapsed": true
   },
   "outputs": [],
   "source": [
    "save_array(\"NepredictTrainVggConv\", NepredictTrainVggConv)"
   ]
  },
  {
   "cell_type": "code",
   "execution_count": 29,
   "metadata": {
    "collapsed": true
   },
   "outputs": [],
   "source": [
    "save_array(\"predictValidationVggConv\", predictValidationVggConv)"
   ]
  },
  {
   "cell_type": "code",
   "execution_count": 32,
   "metadata": {
    "collapsed": true
   },
   "outputs": [],
   "source": [
    "predictValidationVggConv = load_carray(\"predictValidationVggConv\")"
   ]
  },
  {
   "cell_type": "code",
   "execution_count": 8,
   "metadata": {
    "collapsed": true
   },
   "outputs": [],
   "source": [
    "NepredictTrainVggConv = load_carray(\"NepredictTrainVggConv\")"
   ]
  },
  {
   "cell_type": "code",
   "execution_count": null,
   "metadata": {
    "collapsed": false
   },
   "outputs": [],
   "source": [
    "predictTrainVggConv[:5]"
   ]
  },
  {
   "cell_type": "code",
   "execution_count": null,
   "metadata": {
    "collapsed": false
   },
   "outputs": [],
   "source": [
    "predict_test_on_VggConv"
   ]
  },
  {
   "cell_type": "code",
   "execution_count": 17,
   "metadata": {
    "collapsed": true
   },
   "outputs": [],
   "source": [
    "save_array(\"predict_test_on_VggConv\", predict_test_on_VggConv)"
   ]
  },
  {
   "cell_type": "code",
   "execution_count": 51,
   "metadata": {
    "collapsed": true
   },
   "outputs": [],
   "source": [
    "predict_test_on_VggConv = load_carray(\"predict_test_on_VggConv\")"
   ]
  },
  {
   "cell_type": "code",
   "execution_count": 69,
   "metadata": {
    "collapsed": false
   },
   "outputs": [
    {
     "data": {
      "text/plain": [
       "(20244, 512, 14, 14)"
      ]
     },
     "execution_count": 69,
     "metadata": {},
     "output_type": "execute_result"
    }
   ],
   "source": [
    "NewpredictTrainVggConv.shape"
   ]
  },
  {
   "cell_type": "code",
   "execution_count": 45,
   "metadata": {
    "collapsed": true
   },
   "outputs": [],
   "source": [
    "def genDenseModel(layer):\n",
    "    baseModel = Sequential()\n",
    "    baseModel.add(MaxPooling2D(input_shape=layer.output_shape[1:]))\n",
    "    #baseModel.add(Convolution2D(32, 3, 3, activation='relu'))\n",
    "    #baseModel.add(BatchNormalization(axis=1))\n",
    "    #baseModel.add(MaxPooling2D(pool_size=(2,2)))\n",
    "    #baseModel.add(Convolution2D(64, 3, 3, activation='relu'))\n",
    "    #baseModel.add(BatchNormalization(axis=1))\n",
    "    #baseModel.add(MaxPooling2D(pool_size=(2,2)))\n",
    "    baseModel.add(Flatten())\n",
    "    baseModel.add(Dropout(0.5))\n",
    "    baseModel.add(Dense(256,activation='relu'))\n",
    "    baseModel.add(BatchNormalization())\n",
    "    baseModel.add(Dropout(0.5))\n",
    "    baseModel.add(Dense(256,activation='relu'))\n",
    "    baseModel.add(BatchNormalization())\n",
    "    baseModel.add(Dropout(0.8))\n",
    "    baseModel.add(Dense(10,activation='softmax'))\n",
    "    \n",
    "    baseModel.compile(Adam(lr=0.0001), \n",
    "                  loss='categorical_crossentropy',\n",
    "                  metrics=['accuracy'])\n",
    "    \n",
    "    return baseModel"
   ]
  },
  {
   "cell_type": "code",
   "execution_count": 82,
   "metadata": {
    "collapsed": true
   },
   "outputs": [],
   "source": [
    "denseModel = genDenseModel(vggConvLayersModel.layers[-1])"
   ]
  },
  {
   "cell_type": "code",
   "execution_count": 31,
   "metadata": {
    "collapsed": false
   },
   "outputs": [],
   "source": [
    "def get_fc_model():\n",
    "    model = Sequential([MaxPooling2D(input_shape=convLayers[-1].output_shape[1:]),\n",
    "        Flatten(),\n",
    "        Dense(128, activation='relu'),\n",
    "        Dropout(0.),\n",
    "        Dense(256, activation='relu'),\n",
    "        Dropout(0.),\n",
    "        Dense(10, activation='softmax')])\n",
    "\n",
    "    model.compile(Adam(lr=0.0001), loss='categorical_crossentropy', metrics=['accuracy'])\n",
    "    return model\n",
    " "
   ]
  },
  {
   "cell_type": "code",
   "execution_count": 84,
   "metadata": {
    "collapsed": true
   },
   "outputs": [],
   "source": [
    "denseModel.compile(Adam(lr=0.001), \n",
    "                  loss='categorical_crossentropy',\n",
    "                  metrics=['accuracy'])"
   ]
  },
  {
   "cell_type": "code",
   "execution_count": 85,
   "metadata": {
    "collapsed": false
   },
   "outputs": [
    {
     "name": "stdout",
     "output_type": "stream",
     "text": [
      "Train on 20244 samples, validate on 2180 samples\n",
      "Epoch 1/3\n",
      "20244/20244 [==============================] - 27s - loss: 2.8553 - acc: 0.2654 - val_loss: 1.1232 - val_acc: 0.6197\n",
      "Epoch 2/3\n",
      "20244/20244 [==============================] - 28s - loss: 1.4264 - acc: 0.4691 - val_loss: 1.0929 - val_acc: 0.6041\n",
      "Epoch 3/3\n",
      "20244/20244 [==============================] - 28s - loss: 1.1202 - acc: 0.5421 - val_loss: 0.9790 - val_acc: 0.6560\n"
     ]
    },
    {
     "data": {
      "text/plain": [
       "<keras.callbacks.History at 0x7f16beaa7c10>"
      ]
     },
     "execution_count": 85,
     "metadata": {},
     "output_type": "execute_result"
    }
   ],
   "source": [
    "denseModel.fit(NepredictTrainVggConv,train_label_arr,batch_size=64,nb_epoch=3,verbose=1,validation_data=(predictValidationVggConv,valid_label_arr))"
   ]
  },
  {
   "cell_type": "code",
   "execution_count": 86,
   "metadata": {
    "collapsed": false
   },
   "outputs": [
    {
     "name": "stdout",
     "output_type": "stream",
     "text": [
      "Train on 20244 samples, validate on 2180 samples\n",
      "Epoch 1/10\n",
      "20244/20244 [==============================] - 28s - loss: 0.9883 - acc: 0.5834 - val_loss: 0.9767 - val_acc: 0.6307\n",
      "Epoch 2/10\n",
      "20244/20244 [==============================] - 28s - loss: 0.9461 - acc: 0.5971 - val_loss: 0.9736 - val_acc: 0.6422\n",
      "Epoch 3/10\n",
      "20244/20244 [==============================] - 28s - loss: 0.9127 - acc: 0.6112 - val_loss: 0.9693 - val_acc: 0.6321\n",
      "Epoch 4/10\n",
      "20244/20244 [==============================] - 28s - loss: 0.8851 - acc: 0.6263 - val_loss: 0.9303 - val_acc: 0.6587\n",
      "Epoch 5/10\n",
      "20244/20244 [==============================] - 28s - loss: 0.8553 - acc: 0.6280 - val_loss: 0.9725 - val_acc: 0.6500\n",
      "Epoch 6/10\n",
      "20244/20244 [==============================] - 28s - loss: 0.8430 - acc: 0.6373 - val_loss: 0.9673 - val_acc: 0.6491\n",
      "Epoch 7/10\n",
      "20244/20244 [==============================] - 28s - loss: 0.8207 - acc: 0.6487 - val_loss: 0.9409 - val_acc: 0.6619\n",
      "Epoch 8/10\n",
      "20244/20244 [==============================] - 28s - loss: 0.8022 - acc: 0.6520 - val_loss: 0.9915 - val_acc: 0.6408\n",
      "Epoch 9/10\n",
      "20244/20244 [==============================] - 28s - loss: 0.7947 - acc: 0.6580 - val_loss: 0.9543 - val_acc: 0.6330\n",
      "Epoch 10/10\n",
      "20244/20244 [==============================] - 28s - loss: 0.7787 - acc: 0.6611 - val_loss: 0.9302 - val_acc: 0.6468\n"
     ]
    },
    {
     "data": {
      "text/plain": [
       "<keras.callbacks.History at 0x7f16be0c8f50>"
      ]
     },
     "execution_count": 86,
     "metadata": {},
     "output_type": "execute_result"
    }
   ],
   "source": [
    "denseModel.compile(Adam(lr=0.0001), \n",
    "                  loss='categorical_crossentropy',\n",
    "                  metrics=['accuracy'])\n",
    "denseModel.fit(NepredictTrainVggConv,train_label_arr,batch_size=64,nb_epoch=10,verbose=1,validation_data=(predictValidationVggConv,valid_label_arr))"
   ]
  },
  {
   "cell_type": "code",
   "execution_count": 87,
   "metadata": {
    "collapsed": false
   },
   "outputs": [
    {
     "name": "stdout",
     "output_type": "stream",
     "text": [
      "Train on 20244 samples, validate on 2180 samples\n",
      "Epoch 1/20\n",
      "20244/20244 [==============================] - 28s - loss: 0.7584 - acc: 0.6752 - val_loss: 1.0014 - val_acc: 0.6326\n",
      "Epoch 2/20\n",
      "20244/20244 [==============================] - 28s - loss: 0.7506 - acc: 0.6761 - val_loss: 0.9448 - val_acc: 0.6546\n",
      "Epoch 3/20\n",
      "20244/20244 [==============================] - 28s - loss: 0.7366 - acc: 0.6815 - val_loss: 1.0109 - val_acc: 0.6394\n",
      "Epoch 4/20\n",
      "20244/20244 [==============================] - 28s - loss: 0.7206 - acc: 0.6871 - val_loss: 0.9468 - val_acc: 0.6560\n",
      "Epoch 5/20\n",
      "20244/20244 [==============================] - 28s - loss: 0.7032 - acc: 0.6991 - val_loss: 0.9711 - val_acc: 0.6514\n",
      "Epoch 6/20\n",
      "20244/20244 [==============================] - 28s - loss: 0.6972 - acc: 0.7044 - val_loss: 0.9789 - val_acc: 0.6541\n",
      "Epoch 7/20\n",
      "20244/20244 [==============================] - 28s - loss: 0.6793 - acc: 0.7092 - val_loss: 0.9469 - val_acc: 0.6784\n",
      "Epoch 8/20\n",
      "20244/20244 [==============================] - 28s - loss: 0.6738 - acc: 0.7111 - val_loss: 0.9600 - val_acc: 0.6688\n",
      "Epoch 9/20\n",
      "20244/20244 [==============================] - 28s - loss: 0.6602 - acc: 0.7160 - val_loss: 0.9335 - val_acc: 0.6908\n",
      "Epoch 10/20\n",
      "20244/20244 [==============================] - 28s - loss: 0.6513 - acc: 0.7194 - val_loss: 0.9613 - val_acc: 0.6647\n",
      "Epoch 11/20\n",
      "20244/20244 [==============================] - 28s - loss: 0.6362 - acc: 0.7310 - val_loss: 0.9660 - val_acc: 0.6734\n",
      "Epoch 12/20\n",
      "20244/20244 [==============================] - 28s - loss: 0.6194 - acc: 0.7356 - val_loss: 0.9493 - val_acc: 0.6596\n",
      "Epoch 13/20\n",
      "20244/20244 [==============================] - 28s - loss: 0.6191 - acc: 0.7391 - val_loss: 0.9485 - val_acc: 0.6500\n",
      "Epoch 14/20\n",
      "20244/20244 [==============================] - 28s - loss: 0.6077 - acc: 0.7440 - val_loss: 0.9554 - val_acc: 0.6454\n",
      "Epoch 15/20\n",
      "20244/20244 [==============================] - 28s - loss: 0.6027 - acc: 0.7485 - val_loss: 1.0165 - val_acc: 0.6220\n",
      "Epoch 16/20\n",
      "20244/20244 [==============================] - 28s - loss: 0.5852 - acc: 0.7596 - val_loss: 1.0231 - val_acc: 0.6225\n",
      "Epoch 17/20\n",
      "20244/20244 [==============================] - 28s - loss: 0.5774 - acc: 0.7600 - val_loss: 1.0889 - val_acc: 0.6014\n",
      "Epoch 18/20\n",
      "20244/20244 [==============================] - 28s - loss: 0.5686 - acc: 0.7649 - val_loss: 1.0539 - val_acc: 0.6083\n",
      "Epoch 19/20\n",
      "20244/20244 [==============================] - 28s - loss: 0.5555 - acc: 0.7709 - val_loss: 1.0443 - val_acc: 0.5995\n",
      "Epoch 20/20\n",
      "20244/20244 [==============================] - 28s - loss: 0.5445 - acc: 0.7803 - val_loss: 1.0157 - val_acc: 0.6073\n"
     ]
    },
    {
     "data": {
      "text/plain": [
       "<keras.callbacks.History at 0x7f16b7649410>"
      ]
     },
     "execution_count": 87,
     "metadata": {},
     "output_type": "execute_result"
    }
   ],
   "source": [
    "denseModel.compile(Adam(lr=0.0001), \n",
    "                  loss='categorical_crossentropy',\n",
    "                  metrics=['accuracy'])\n",
    "denseModel.fit(NepredictTrainVggConv,train_label_arr,batch_size=64,nb_epoch=20,verbose=1,validation_data=(predictValidationVggConv,valid_label_arr))"
   ]
  },
  {
   "cell_type": "code",
   "execution_count": 88,
   "metadata": {
    "collapsed": true
   },
   "outputs": [
    {
     "name": "stdout",
     "output_type": "stream",
     "text": [
      "Train on 20244 samples, validate on 2180 samples\n",
      "Epoch 1/20\n",
      "20244/20244 [==============================] - 28s - loss: 0.5373 - acc: 0.7796 - val_loss: 1.0253 - val_acc: 0.6133\n",
      "Epoch 2/20\n",
      "20244/20244 [==============================] - 28s - loss: 0.5254 - acc: 0.7859 - val_loss: 1.0368 - val_acc: 0.6229\n",
      "Epoch 3/20\n",
      "20244/20244 [==============================] - 28s - loss: 0.5227 - acc: 0.7898 - val_loss: 1.0777 - val_acc: 0.5945\n",
      "Epoch 4/20\n",
      "20244/20244 [==============================] - 28s - loss: 0.5157 - acc: 0.7923 - val_loss: 1.0570 - val_acc: 0.5995\n",
      "Epoch 5/20\n",
      "20244/20244 [==============================] - 28s - loss: 0.4978 - acc: 0.7961 - val_loss: 1.1193 - val_acc: 0.5936\n",
      "Epoch 6/20\n",
      "20244/20244 [==============================] - 28s - loss: 0.5023 - acc: 0.7950 - val_loss: 1.1177 - val_acc: 0.6037\n",
      "Epoch 7/20\n",
      "20244/20244 [==============================] - 28s - loss: 0.4971 - acc: 0.8023 - val_loss: 1.1691 - val_acc: 0.5757\n",
      "Epoch 8/20\n",
      "20244/20244 [==============================] - 28s - loss: 0.4827 - acc: 0.8034 - val_loss: 1.1238 - val_acc: 0.5872\n",
      "Epoch 9/20\n",
      "20244/20244 [==============================] - 28s - loss: 0.4742 - acc: 0.8101 - val_loss: 1.1020 - val_acc: 0.5826\n",
      "Epoch 10/20\n",
      "20244/20244 [==============================] - 29s - loss: 0.4708 - acc: 0.8129 - val_loss: 1.1193 - val_acc: 0.5940\n",
      "Epoch 11/20\n",
      "20244/20244 [==============================] - 28s - loss: 0.4537 - acc: 0.8168 - val_loss: 1.0762 - val_acc: 0.6000\n",
      "Epoch 12/20\n",
      "20244/20244 [==============================] - 28s - loss: 0.4570 - acc: 0.8167 - val_loss: 1.1483 - val_acc: 0.5647\n",
      "Epoch 13/20\n",
      "20244/20244 [==============================] - 28s - loss: 0.4438 - acc: 0.8232 - val_loss: 1.1390 - val_acc: 0.6023\n",
      "Epoch 14/20\n",
      "20244/20244 [==============================] - 28s - loss: 0.4356 - acc: 0.8284 - val_loss: 1.0815 - val_acc: 0.6083\n",
      "Epoch 15/20\n",
      "20244/20244 [==============================] - 28s - loss: 0.4394 - acc: 0.8305 - val_loss: 1.1466 - val_acc: 0.5862\n",
      "Epoch 16/20\n",
      "20244/20244 [==============================] - 28s - loss: 0.4253 - acc: 0.8336 - val_loss: 1.1261 - val_acc: 0.5922\n",
      "Epoch 17/20\n",
      "20244/20244 [==============================] - 27s - loss: 0.4183 - acc: 0.8389 - val_loss: 1.1391 - val_acc: 0.6032\n",
      "Epoch 18/20\n",
      "20244/20244 [==============================] - 28s - loss: 0.4096 - acc: 0.8420 - val_loss: 1.1249 - val_acc: 0.5931\n",
      "Epoch 19/20\n",
      "20244/20244 [==============================] - 28s - loss: 0.3999 - acc: 0.8456 - val_loss: 1.1911 - val_acc: 0.5894\n",
      "Epoch 20/20\n",
      "20244/20244 [==============================] - 28s - loss: 0.4072 - acc: 0.8399 - val_loss: 1.0763 - val_acc: 0.6014\n"
     ]
    },
    {
     "data": {
      "text/plain": [
       "<keras.callbacks.History at 0x7f16bda20510>"
      ]
     },
     "execution_count": 88,
     "metadata": {},
     "output_type": "execute_result"
    }
   ],
   "source": [
    "denseModel.compile(Adam(lr=0.0001), \n",
    "                  loss='categorical_crossentropy',\n",
    "                  metrics=['accuracy'])\n",
    "denseModel.fit(NepredictTrainVggConv,train_label_arr,batch_size=64,nb_epoch=20,verbose=1,validation_data=(predictValidationVggConv,valid_label_arr))"
   ]
  },
  {
   "cell_type": "code",
   "execution_count": 90,
   "metadata": {
    "collapsed": true
   },
   "outputs": [
    {
     "name": "stdout",
     "output_type": "stream",
     "text": [
      "Train on 20244 samples, validate on 2180 samples\n",
      "Epoch 1/20\n",
      "20244/20244 [==============================] - 29s - loss: 0.3125 - acc: 0.8831 - val_loss: 1.2832 - val_acc: 0.5867\n",
      "Epoch 2/20\n",
      "20244/20244 [==============================] - 29s - loss: 0.3060 - acc: 0.8850 - val_loss: 1.2554 - val_acc: 0.5954\n",
      "Epoch 3/20\n",
      "20244/20244 [==============================] - 29s - loss: 0.2948 - acc: 0.8930 - val_loss: 1.3374 - val_acc: 0.5734\n",
      "Epoch 4/20\n",
      "20244/20244 [==============================] - 29s - loss: 0.2938 - acc: 0.8919 - val_loss: 1.2466 - val_acc: 0.5982\n",
      "Epoch 5/20\n",
      "20244/20244 [==============================] - 30s - loss: 0.2925 - acc: 0.8932 - val_loss: 1.2844 - val_acc: 0.5706\n",
      "Epoch 6/20\n",
      "20244/20244 [==============================] - 29s - loss: 0.2919 - acc: 0.8917 - val_loss: 1.2277 - val_acc: 0.5894\n",
      "Epoch 7/20\n",
      "20244/20244 [==============================] - 30s - loss: 0.2856 - acc: 0.8950 - val_loss: 1.2174 - val_acc: 0.5862\n",
      "Epoch 8/20\n",
      "20244/20244 [==============================] - 29s - loss: 0.2870 - acc: 0.8948 - val_loss: 1.2941 - val_acc: 0.5789\n",
      "Epoch 9/20\n",
      "20244/20244 [==============================] - 30s - loss: 0.2892 - acc: 0.8939 - val_loss: 1.2562 - val_acc: 0.5830\n",
      "Epoch 10/20\n",
      "20244/20244 [==============================] - 29s - loss: 0.2748 - acc: 0.8980 - val_loss: 1.2829 - val_acc: 0.5729\n",
      "Epoch 11/20\n",
      "20244/20244 [==============================] - 30s - loss: 0.2644 - acc: 0.9034 - val_loss: 1.2261 - val_acc: 0.5839\n",
      "Epoch 12/20\n",
      "20244/20244 [==============================] - 29s - loss: 0.2719 - acc: 0.9012 - val_loss: 1.2654 - val_acc: 0.5716\n",
      "Epoch 13/20\n",
      "20244/20244 [==============================] - 30s - loss: 0.2681 - acc: 0.9016 - val_loss: 1.2945 - val_acc: 0.5803\n",
      "Epoch 14/20\n",
      "20244/20244 [==============================] - 29s - loss: 0.2617 - acc: 0.9027 - val_loss: 1.2782 - val_acc: 0.5739\n",
      "Epoch 15/20\n",
      "20244/20244 [==============================] - 30s - loss: 0.2653 - acc: 0.8998 - val_loss: 1.2332 - val_acc: 0.5931\n",
      "Epoch 16/20\n",
      "20244/20244 [==============================] - 29s - loss: 0.2576 - acc: 0.9056 - val_loss: 1.3556 - val_acc: 0.5752\n",
      "Epoch 17/20\n",
      "20244/20244 [==============================] - 30s - loss: 0.2579 - acc: 0.9048 - val_loss: 1.2545 - val_acc: 0.5991\n",
      "Epoch 18/20\n",
      "20244/20244 [==============================] - 30s - loss: 0.2511 - acc: 0.9066 - val_loss: 1.2011 - val_acc: 0.5881\n",
      "Epoch 19/20\n",
      "20244/20244 [==============================] - 30s - loss: 0.2503 - acc: 0.9090 - val_loss: 1.1685 - val_acc: 0.5986\n",
      "Epoch 20/20\n",
      "20244/20244 [==============================] - 29s - loss: 0.2548 - acc: 0.9081 - val_loss: 1.2212 - val_acc: 0.5807\n"
     ]
    },
    {
     "data": {
      "text/plain": [
       "<keras.callbacks.History at 0x7f16b66b7510>"
      ]
     },
     "execution_count": 90,
     "metadata": {},
     "output_type": "execute_result"
    }
   ],
   "source": [
    "denseModel.compile(Adam(lr=0.0001), \n",
    "                  loss='categorical_crossentropy',\n",
    "                  metrics=['accuracy'])\n",
    "denseModel.fit(NepredictTrainVggConv,train_label_arr,batch_size=64,nb_epoch=20,verbose=1,validation_data=(predictValidationVggConv,valid_label_arr))"
   ]
  },
  {
   "cell_type": "code",
   "execution_count": 91,
   "metadata": {
    "collapsed": true
   },
   "outputs": [
    {
     "name": "stdout",
     "output_type": "stream",
     "text": [
      "Train on 20244 samples, validate on 2180 samples\n",
      "Epoch 1/7\n",
      "20244/20244 [==============================] - 29s - loss: 0.2483 - acc: 0.9088 - val_loss: 1.2272 - val_acc: 0.5986\n",
      "Epoch 2/7\n",
      "20244/20244 [==============================] - 30s - loss: 0.2438 - acc: 0.9105 - val_loss: 1.1445 - val_acc: 0.6128\n",
      "Epoch 3/7\n",
      "20244/20244 [==============================] - 29s - loss: 0.2369 - acc: 0.9129 - val_loss: 1.2130 - val_acc: 0.6009\n",
      "Epoch 4/7\n",
      "20244/20244 [==============================] - 29s - loss: 0.2401 - acc: 0.9121 - val_loss: 1.2378 - val_acc: 0.6000\n",
      "Epoch 5/7\n",
      "20244/20244 [==============================] - 29s - loss: 0.2413 - acc: 0.9121 - val_loss: 1.1253 - val_acc: 0.6248\n",
      "Epoch 6/7\n",
      "20244/20244 [==============================] - 29s - loss: 0.2365 - acc: 0.9122 - val_loss: 1.1304 - val_acc: 0.6275\n",
      "Epoch 7/7\n",
      "20244/20244 [==============================] - 29s - loss: 0.2333 - acc: 0.9156 - val_loss: 1.1632 - val_acc: 0.6225\n"
     ]
    },
    {
     "data": {
      "text/plain": [
       "<keras.callbacks.History at 0x7f16ba2cdd90>"
      ]
     },
     "execution_count": 91,
     "metadata": {},
     "output_type": "execute_result"
    }
   ],
   "source": [
    "denseModel.compile(Adam(lr=0.0001), \n",
    "                  loss='categorical_crossentropy',\n",
    "                  metrics=['accuracy'])\n",
    "denseModel.fit(NepredictTrainVggConv,train_label_arr,batch_size=64,nb_epoch=7,verbose=1,validation_data=(predictValidationVggConv,valid_label_arr))"
   ]
  },
  {
   "cell_type": "code",
   "execution_count": 93,
   "metadata": {
    "collapsed": true
   },
   "outputs": [
    {
     "name": "stdout",
     "output_type": "stream",
     "text": [
      "Train on 20244 samples, validate on 2180 samples\n",
      "Epoch 1/15\n",
      "20244/20244 [==============================] - 30s - loss: 0.2066 - acc: 0.9264 - val_loss: 1.3958 - val_acc: 0.5720\n",
      "Epoch 2/15\n",
      "20244/20244 [==============================] - 29s - loss: 0.2041 - acc: 0.9271 - val_loss: 1.3929 - val_acc: 0.5858\n",
      "Epoch 3/15\n",
      "20244/20244 [==============================] - 29s - loss: 0.2105 - acc: 0.9262 - val_loss: 1.5091 - val_acc: 0.5761\n",
      "Epoch 4/15\n",
      "20244/20244 [==============================] - 29s - loss: 0.2003 - acc: 0.9300 - val_loss: 1.3784 - val_acc: 0.5839\n",
      "Epoch 5/15\n",
      "20244/20244 [==============================] - 29s - loss: 0.2105 - acc: 0.9255 - val_loss: 1.4489 - val_acc: 0.5642\n",
      "Epoch 6/15\n",
      "20244/20244 [==============================] - 29s - loss: 0.2021 - acc: 0.9277 - val_loss: 1.4371 - val_acc: 0.5697\n",
      "Epoch 7/15\n",
      "20244/20244 [==============================] - 28s - loss: 0.1965 - acc: 0.9294 - val_loss: 1.4346 - val_acc: 0.5509\n",
      "Epoch 8/15\n",
      "20244/20244 [==============================] - 29s - loss: 0.1974 - acc: 0.9288 - val_loss: 1.5093 - val_acc: 0.5298\n",
      "Epoch 9/15\n",
      "20244/20244 [==============================] - 29s - loss: 0.1933 - acc: 0.9329 - val_loss: 1.4004 - val_acc: 0.5528\n",
      "Epoch 10/15\n",
      "20244/20244 [==============================] - 29s - loss: 0.1986 - acc: 0.9287 - val_loss: 1.5162 - val_acc: 0.5408\n",
      "Epoch 11/15\n",
      "20244/20244 [==============================] - 30s - loss: 0.1885 - acc: 0.9309 - val_loss: 1.4820 - val_acc: 0.5229\n",
      "Epoch 12/15\n",
      "20244/20244 [==============================] - 29s - loss: 0.1905 - acc: 0.9303 - val_loss: 1.3875 - val_acc: 0.5477\n",
      "Epoch 13/15\n",
      "20244/20244 [==============================] - 30s - loss: 0.1901 - acc: 0.9311 - val_loss: 1.3231 - val_acc: 0.5472\n",
      "Epoch 14/15\n",
      "20244/20244 [==============================] - 30s - loss: 0.1871 - acc: 0.9303 - val_loss: 1.4571 - val_acc: 0.5523\n",
      "Epoch 15/15\n",
      "20244/20244 [==============================] - 30s - loss: 0.1827 - acc: 0.9339 - val_loss: 1.3079 - val_acc: 0.5913\n"
     ]
    },
    {
     "data": {
      "text/plain": [
       "<keras.callbacks.History at 0x7f16bdde1610>"
      ]
     },
     "execution_count": 93,
     "metadata": {},
     "output_type": "execute_result"
    }
   ],
   "source": [
    "denseModel.compile(Adam(lr=0.0001), \n",
    "                  loss='categorical_crossentropy',\n",
    "                  metrics=['accuracy'])\n",
    "denseModel.fit(NepredictTrainVggConv,train_label_arr,batch_size=64,nb_epoch=15,verbose=1,validation_data=(predictValidationVggConv,valid_label_arr))"
   ]
  },
  {
   "cell_type": "code",
   "execution_count": 97,
   "metadata": {
    "collapsed": true
   },
   "outputs": [
    {
     "name": "stdout",
     "output_type": "stream",
     "text": [
      "Train on 20244 samples, validate on 2180 samples\n",
      "Epoch 1/5\n",
      "20244/20244 [==============================] - 28s - loss: 1.5784 - acc: 0.4483 - val_loss: 1.2157 - val_acc: 0.5936\n",
      "Epoch 2/5\n",
      "20244/20244 [==============================] - 28s - loss: 1.0813 - acc: 0.5648 - val_loss: 2.7458 - val_acc: 0.4206\n",
      "Epoch 3/5\n",
      "20244/20244 [==============================] - 28s - loss: 0.9834 - acc: 0.5927 - val_loss: 1.0835 - val_acc: 0.6138\n",
      "Epoch 4/5\n",
      "20244/20244 [==============================] - 28s - loss: 0.9477 - acc: 0.6061 - val_loss: 1.1771 - val_acc: 0.5683\n",
      "Epoch 5/5\n",
      "20244/20244 [==============================] - 29s - loss: 0.9016 - acc: 0.6192 - val_loss: 0.9264 - val_acc: 0.6904\n"
     ]
    },
    {
     "data": {
      "text/plain": [
       "<keras.callbacks.History at 0x7f16b5b0b490>"
      ]
     },
     "execution_count": 97,
     "metadata": {},
     "output_type": "execute_result"
    }
   ],
   "source": [
    "denseModel.compile(Adam(lr=0.01), \n",
    "                  loss='categorical_crossentropy',\n",
    "                  metrics=['accuracy'])\n",
    "denseModel.fit(NepredictTrainVggConv,train_label_arr,batch_size=64,nb_epoch=5,verbose=1,validation_data=(predictValidationVggConv,valid_label_arr))"
   ]
  },
  {
   "cell_type": "code",
   "execution_count": 95,
   "metadata": {
    "collapsed": true
   },
   "outputs": [
    {
     "name": "stdout",
     "output_type": "stream",
     "text": [
      "Train on 20244 samples, validate on 2180 samples\n",
      "Epoch 1/10\n",
      "20244/20244 [==============================] - 28s - loss: 0.1725 - acc: 0.9374 - val_loss: 1.3392 - val_acc: 0.5748\n",
      "Epoch 2/10\n",
      "20244/20244 [==============================] - 28s - loss: 0.1689 - acc: 0.9408 - val_loss: 1.3495 - val_acc: 0.5789\n",
      "Epoch 3/10\n",
      "20244/20244 [==============================] - 29s - loss: 0.1711 - acc: 0.9389 - val_loss: 1.3355 - val_acc: 0.5821\n",
      "Epoch 4/10\n",
      "20244/20244 [==============================] - 29s - loss: 0.1581 - acc: 0.9435 - val_loss: 1.3218 - val_acc: 0.5844\n",
      "Epoch 5/10\n",
      "20244/20244 [==============================] - 28s - loss: 0.1563 - acc: 0.9428 - val_loss: 1.3544 - val_acc: 0.5798\n",
      "Epoch 6/10\n",
      "20244/20244 [==============================] - 29s - loss: 0.1581 - acc: 0.9437 - val_loss: 1.3300 - val_acc: 0.5812\n",
      "Epoch 7/10\n",
      "20244/20244 [==============================] - 29s - loss: 0.1566 - acc: 0.9442 - val_loss: 1.3245 - val_acc: 0.5803\n",
      "Epoch 8/10\n",
      "20244/20244 [==============================] - 28s - loss: 0.1537 - acc: 0.9462 - val_loss: 1.3515 - val_acc: 0.5789\n",
      "Epoch 9/10\n",
      "20244/20244 [==============================] - 28s - loss: 0.1514 - acc: 0.9465 - val_loss: 1.3445 - val_acc: 0.5803\n",
      "Epoch 10/10\n",
      "20244/20244 [==============================] - 28s - loss: 0.1595 - acc: 0.9445 - val_loss: 1.3782 - val_acc: 0.5761\n"
     ]
    },
    {
     "data": {
      "text/plain": [
       "<keras.callbacks.History at 0x7f16bb260f10>"
      ]
     },
     "execution_count": 95,
     "metadata": {},
     "output_type": "execute_result"
    }
   ],
   "source": [
    "denseModel.compile(Adam(lr=0.00001), \n",
    "                  loss='categorical_crossentropy',\n",
    "                  metrics=['accuracy'])\n",
    "denseModel.fit(NepredictTrainVggConv,train_label_arr,batch_size=64,nb_epoch=10,verbose=1,validation_data=(predictValidationVggConv,valid_label_arr))"
   ]
  },
  {
   "cell_type": "code",
   "execution_count": 98,
   "metadata": {
    "collapsed": true
   },
   "outputs": [
    {
     "name": "stdout",
     "output_type": "stream",
     "text": [
      "Train on 20244 samples, validate on 2180 samples\n",
      "Epoch 1/5\n",
      "20244/20244 [==============================] - 28s - loss: 0.7995 - acc: 0.6629 - val_loss: 0.9198 - val_acc: 0.6839\n",
      "Epoch 2/5\n",
      "20244/20244 [==============================] - 28s - loss: 0.7354 - acc: 0.6841 - val_loss: 0.9877 - val_acc: 0.6784\n",
      "Epoch 3/5\n",
      "20244/20244 [==============================] - 28s - loss: 0.7040 - acc: 0.6994 - val_loss: 0.9931 - val_acc: 0.6642\n",
      "Epoch 4/5\n",
      "20244/20244 [==============================] - 28s - loss: 0.6853 - acc: 0.7043 - val_loss: 0.9228 - val_acc: 0.6917\n",
      "Epoch 5/5\n",
      "20244/20244 [==============================] - 28s - loss: 0.6617 - acc: 0.7129 - val_loss: 0.9508 - val_acc: 0.6817\n"
     ]
    },
    {
     "data": {
      "text/plain": [
       "<keras.callbacks.History at 0x7f16bea13090>"
      ]
     },
     "execution_count": 98,
     "metadata": {},
     "output_type": "execute_result"
    }
   ],
   "source": [
    "denseModel.compile(Adam(lr=0.001), \n",
    "                  loss='categorical_crossentropy',\n",
    "                  metrics=['accuracy'])\n",
    "denseModel.fit(NepredictTrainVggConv,train_label_arr,batch_size=64,nb_epoch=5,verbose=1,validation_data=(predictValidationVggConv,valid_label_arr))"
   ]
  },
  {
   "cell_type": "code",
   "execution_count": 99,
   "metadata": {
    "collapsed": false
   },
   "outputs": [
    {
     "name": "stdout",
     "output_type": "stream",
     "text": [
      "Train on 20244 samples, validate on 2180 samples\n",
      "Epoch 1/25\n",
      "20244/20244 [==============================] - 28s - loss: 0.6480 - acc: 0.7212 - val_loss: 0.9547 - val_acc: 0.6862\n",
      "Epoch 2/25\n",
      "20244/20244 [==============================] - 28s - loss: 0.6399 - acc: 0.7229 - val_loss: 0.9653 - val_acc: 0.6743\n",
      "Epoch 3/25\n",
      "20244/20244 [==============================] - 28s - loss: 0.6334 - acc: 0.7292 - val_loss: 0.9605 - val_acc: 0.6798\n",
      "Epoch 4/25\n",
      "20244/20244 [==============================] - 29s - loss: 0.6470 - acc: 0.7172 - val_loss: 0.9661 - val_acc: 0.6706\n",
      "Epoch 5/25\n",
      "20244/20244 [==============================] - 29s - loss: 0.6344 - acc: 0.7266 - val_loss: 0.9708 - val_acc: 0.6734\n",
      "Epoch 6/25\n",
      "20244/20244 [==============================] - 29s - loss: 0.6353 - acc: 0.7250 - val_loss: 0.9766 - val_acc: 0.6683\n",
      "Epoch 7/25\n",
      "20244/20244 [==============================] - 29s - loss: 0.6305 - acc: 0.7286 - val_loss: 0.9709 - val_acc: 0.6706\n",
      "Epoch 8/25\n",
      "20244/20244 [==============================] - 28s - loss: 0.6241 - acc: 0.7324 - val_loss: 0.9723 - val_acc: 0.6688\n",
      "Epoch 9/25\n",
      "20244/20244 [==============================] - 28s - loss: 0.6335 - acc: 0.7285 - val_loss: 0.9624 - val_acc: 0.6748\n",
      "Epoch 10/25\n",
      "20244/20244 [==============================] - 28s - loss: 0.6279 - acc: 0.7305 - val_loss: 0.9739 - val_acc: 0.6679\n",
      "Epoch 11/25\n",
      "20244/20244 [==============================] - 28s - loss: 0.6195 - acc: 0.7300 - val_loss: 0.9671 - val_acc: 0.6670\n",
      "Epoch 12/25\n",
      "20244/20244 [==============================] - 28s - loss: 0.6175 - acc: 0.7341 - val_loss: 0.9701 - val_acc: 0.6711\n",
      "Epoch 13/25\n",
      "20244/20244 [==============================] - 28s - loss: 0.6208 - acc: 0.7357 - val_loss: 0.9717 - val_acc: 0.6651\n",
      "Epoch 14/25\n",
      "20244/20244 [==============================] - 28s - loss: 0.6069 - acc: 0.7350 - val_loss: 0.9658 - val_acc: 0.6683\n",
      "Epoch 15/25\n",
      "20244/20244 [==============================] - 28s - loss: 0.6102 - acc: 0.7398 - val_loss: 0.9733 - val_acc: 0.6656\n",
      "Epoch 16/25\n",
      "20244/20244 [==============================] - 28s - loss: 0.6081 - acc: 0.7360 - val_loss: 0.9897 - val_acc: 0.6592\n",
      "Epoch 17/25\n",
      "20244/20244 [==============================] - 28s - loss: 0.6110 - acc: 0.7371 - val_loss: 0.9936 - val_acc: 0.6601\n",
      "Epoch 18/25\n",
      "20244/20244 [==============================] - 28s - loss: 0.6065 - acc: 0.7406 - val_loss: 0.9659 - val_acc: 0.6688\n",
      "Epoch 19/25\n",
      "20244/20244 [==============================] - 28s - loss: 0.6060 - acc: 0.7378 - val_loss: 0.9644 - val_acc: 0.6670\n",
      "Epoch 20/25\n",
      "20244/20244 [==============================] - 28s - loss: 0.5982 - acc: 0.7445 - val_loss: 0.9813 - val_acc: 0.6583\n",
      "Epoch 21/25\n",
      "20244/20244 [==============================] - 28s - loss: 0.5997 - acc: 0.7423 - val_loss: 0.9841 - val_acc: 0.6624\n",
      "Epoch 22/25\n",
      "20244/20244 [==============================] - 29s - loss: 0.6058 - acc: 0.7435 - val_loss: 0.9766 - val_acc: 0.6587\n",
      "Epoch 23/25\n",
      "20244/20244 [==============================] - 28s - loss: 0.5994 - acc: 0.7419 - val_loss: 0.9793 - val_acc: 0.6573\n",
      "Epoch 24/25\n",
      "20244/20244 [==============================] - 28s - loss: 0.5934 - acc: 0.7444 - val_loss: 0.9822 - val_acc: 0.6555\n",
      "Epoch 25/25\n",
      "20244/20244 [==============================] - 28s - loss: 0.5867 - acc: 0.7503 - val_loss: 0.9767 - val_acc: 0.6578\n"
     ]
    },
    {
     "data": {
      "text/plain": [
       "<keras.callbacks.History at 0x7f16b9b9ba90>"
      ]
     },
     "execution_count": 99,
     "metadata": {},
     "output_type": "execute_result"
    }
   ],
   "source": [
    "denseModel.compile(Adam(lr=0.0001), \n",
    "                  loss='categorical_crossentropy',\n",
    "                  metrics=['accuracy'])\n",
    "denseModel.fit(NepredictTrainVggConv,train_label_arr,batch_size=64,nb_epoch=25,verbose=1,validation_data=(predictValidationVggConv,valid_label_arr))"
   ]
  },
  {
   "cell_type": "code",
   "execution_count": 100,
   "metadata": {
    "collapsed": true
   },
   "outputs": [],
   "source": [
    "denseModel.save_weights('Dense_model_with_dropout_val_66.h5',)"
   ]
  },
  {
   "cell_type": "code",
   "execution_count": 43,
   "metadata": {
    "collapsed": true
   },
   "outputs": [],
   "source": [
    "def genDenseModelWithoutDropOut(layer):\n",
    "    baseModel = Sequential()\n",
    "    baseModel.add(MaxPooling2D(input_shape=layer.output_shape[1:]))\n",
    "    #baseModel.add(Convolution2D(32, 3, 3, activation='relu'))\n",
    "    #baseModel.add(BatchNormalization(axis=1))\n",
    "    #baseModel.add(MaxPooling2D(pool_size=(2,2)))\n",
    "    #baseModel.add(Convolution2D(64, 3, 3, activation='relu'))\n",
    "    #baseModel.add(BatchNormalization(axis=1))\n",
    "    #baseModel.add(MaxPooling2D(pool_size=(2,2)))\n",
    "    baseModel.add(Flatten())\n",
    "    baseModel.add(Dropout(0.))\n",
    "    baseModel.add(Dense(256,activation='relu'))\n",
    "    baseModel.add(BatchNormalization())\n",
    "    baseModel.add(Dropout(0.))\n",
    "    baseModel.add(Dense(256,activation='relu'))\n",
    "    baseModel.add(BatchNormalization())\n",
    "    baseModel.add(Dropout(0.))\n",
    "    baseModel.add(Dense(10,activation='softmax'))\n",
    "    \n",
    "    baseModel.compile(Adam(lr=0.0001), \n",
    "                  loss='categorical_crossentropy',\n",
    "                  metrics=['accuracy'])\n",
    "    \n",
    "    return baseModel"
   ]
  },
  {
   "cell_type": "code",
   "execution_count": 46,
   "metadata": {
    "collapsed": false
   },
   "outputs": [],
   "source": [
    "denseModelWithoutDropout = genDenseModel(vggConvLayersModel.layers[-1])"
   ]
  },
  {
   "cell_type": "code",
   "execution_count": 103,
   "metadata": {
    "collapsed": false
   },
   "outputs": [
    {
     "name": "stdout",
     "output_type": "stream",
     "text": [
      "Train on 20244 samples, validate on 2180 samples\n",
      "Epoch 1/3\n",
      "20244/20244 [==============================] - 28s - loss: 2.8855 - acc: 0.2566 - val_loss: 1.1289 - val_acc: 0.5651\n",
      "Epoch 2/3\n",
      "20244/20244 [==============================] - 28s - loss: 1.4187 - acc: 0.4661 - val_loss: 0.9799 - val_acc: 0.6431\n",
      "Epoch 3/3\n",
      "20244/20244 [==============================] - 29s - loss: 1.1284 - acc: 0.5434 - val_loss: 0.9304 - val_acc: 0.7330\n"
     ]
    },
    {
     "data": {
      "text/plain": [
       "<keras.callbacks.History at 0x7f16b7aacc90>"
      ]
     },
     "execution_count": 103,
     "metadata": {},
     "output_type": "execute_result"
    }
   ],
   "source": [
    "denseModelWithoutDropout.compile(Adam(lr=0.001), \n",
    "                  loss='categorical_crossentropy',\n",
    "                  metrics=['accuracy'])\n",
    "denseModelWithoutDropout.fit(NepredictTrainVggConv,train_label_arr,batch_size=64,nb_epoch=3,verbose=1,validation_data=(predictValidationVggConv,valid_label_arr))"
   ]
  },
  {
   "cell_type": "code",
   "execution_count": 104,
   "metadata": {
    "collapsed": true
   },
   "outputs": [
    {
     "name": "stdout",
     "output_type": "stream",
     "text": [
      "Train on 20244 samples, validate on 2180 samples\n",
      "Epoch 1/10\n",
      "20244/20244 [==============================] - 28s - loss: 1.0862 - acc: 0.5516 - val_loss: 1.0369 - val_acc: 0.6179\n",
      "Epoch 2/10\n",
      "20244/20244 [==============================] - 28s - loss: 0.9827 - acc: 0.5822 - val_loss: 0.9942 - val_acc: 0.6716\n",
      "Epoch 3/10\n",
      "20244/20244 [==============================] - 29s - loss: 0.9115 - acc: 0.6112 - val_loss: 1.0208 - val_acc: 0.6596\n",
      "Epoch 4/10\n",
      "20244/20244 [==============================] - 28s - loss: 0.8645 - acc: 0.6288 - val_loss: 0.8915 - val_acc: 0.7174\n",
      "Epoch 5/10\n",
      " 1216/20244 [>.............................] - ETA: 24s - loss: 0.7752 - acc: 0.6628"
     ]
    },
    {
     "ename": "KeyboardInterrupt",
     "evalue": "",
     "output_type": "error",
     "traceback": [
      "\u001b[0;31m---------------------------------------------------------------------------\u001b[0m",
      "\u001b[0;31mKeyboardInterrupt\u001b[0m                         Traceback (most recent call last)",
      "\u001b[0;32m<ipython-input-104-8dcee413413e>\u001b[0m in \u001b[0;36m<module>\u001b[0;34m()\u001b[0m\n\u001b[1;32m      2\u001b[0m                   \u001b[0mloss\u001b[0m\u001b[0;34m=\u001b[0m\u001b[0;34m'categorical_crossentropy'\u001b[0m\u001b[0;34m,\u001b[0m\u001b[0;34m\u001b[0m\u001b[0m\n\u001b[1;32m      3\u001b[0m                   metrics=['accuracy'])\n\u001b[0;32m----> 4\u001b[0;31m \u001b[0mdenseModelWithoutDropout\u001b[0m\u001b[0;34m.\u001b[0m\u001b[0mfit\u001b[0m\u001b[0;34m(\u001b[0m\u001b[0mNepredictTrainVggConv\u001b[0m\u001b[0;34m,\u001b[0m\u001b[0mtrain_label_arr\u001b[0m\u001b[0;34m,\u001b[0m\u001b[0mbatch_size\u001b[0m\u001b[0;34m=\u001b[0m\u001b[0;36m64\u001b[0m\u001b[0;34m,\u001b[0m\u001b[0mnb_epoch\u001b[0m\u001b[0;34m=\u001b[0m\u001b[0;36m10\u001b[0m\u001b[0;34m,\u001b[0m\u001b[0mverbose\u001b[0m\u001b[0;34m=\u001b[0m\u001b[0;36m1\u001b[0m\u001b[0;34m,\u001b[0m\u001b[0mvalidation_data\u001b[0m\u001b[0;34m=\u001b[0m\u001b[0;34m(\u001b[0m\u001b[0mpredictValidationVggConv\u001b[0m\u001b[0;34m,\u001b[0m\u001b[0mvalid_label_arr\u001b[0m\u001b[0;34m)\u001b[0m\u001b[0;34m)\u001b[0m\u001b[0;34m\u001b[0m\u001b[0m\n\u001b[0m",
      "\u001b[0;32m/home/ubuntu/anaconda2/lib/python2.7/site-packages/keras/models.pyc\u001b[0m in \u001b[0;36mfit\u001b[0;34m(self, x, y, batch_size, nb_epoch, verbose, callbacks, validation_split, validation_data, shuffle, class_weight, sample_weight, **kwargs)\u001b[0m\n\u001b[1;32m    618\u001b[0m                               \u001b[0mshuffle\u001b[0m\u001b[0;34m=\u001b[0m\u001b[0mshuffle\u001b[0m\u001b[0;34m,\u001b[0m\u001b[0;34m\u001b[0m\u001b[0m\n\u001b[1;32m    619\u001b[0m                               \u001b[0mclass_weight\u001b[0m\u001b[0;34m=\u001b[0m\u001b[0mclass_weight\u001b[0m\u001b[0;34m,\u001b[0m\u001b[0;34m\u001b[0m\u001b[0m\n\u001b[0;32m--> 620\u001b[0;31m                               sample_weight=sample_weight)\n\u001b[0m\u001b[1;32m    621\u001b[0m \u001b[0;34m\u001b[0m\u001b[0m\n\u001b[1;32m    622\u001b[0m     def evaluate(self, x, y, batch_size=32, verbose=1,\n",
      "\u001b[0;32m/home/ubuntu/anaconda2/lib/python2.7/site-packages/keras/engine/training.pyc\u001b[0m in \u001b[0;36mfit\u001b[0;34m(self, x, y, batch_size, nb_epoch, verbose, callbacks, validation_split, validation_data, shuffle, class_weight, sample_weight)\u001b[0m\n\u001b[1;32m   1104\u001b[0m                               \u001b[0mverbose\u001b[0m\u001b[0;34m=\u001b[0m\u001b[0mverbose\u001b[0m\u001b[0;34m,\u001b[0m \u001b[0mcallbacks\u001b[0m\u001b[0;34m=\u001b[0m\u001b[0mcallbacks\u001b[0m\u001b[0;34m,\u001b[0m\u001b[0;34m\u001b[0m\u001b[0m\n\u001b[1;32m   1105\u001b[0m                               \u001b[0mval_f\u001b[0m\u001b[0;34m=\u001b[0m\u001b[0mval_f\u001b[0m\u001b[0;34m,\u001b[0m \u001b[0mval_ins\u001b[0m\u001b[0;34m=\u001b[0m\u001b[0mval_ins\u001b[0m\u001b[0;34m,\u001b[0m \u001b[0mshuffle\u001b[0m\u001b[0;34m=\u001b[0m\u001b[0mshuffle\u001b[0m\u001b[0;34m,\u001b[0m\u001b[0;34m\u001b[0m\u001b[0m\n\u001b[0;32m-> 1106\u001b[0;31m                               callback_metrics=callback_metrics)\n\u001b[0m\u001b[1;32m   1107\u001b[0m \u001b[0;34m\u001b[0m\u001b[0m\n\u001b[1;32m   1108\u001b[0m     \u001b[0;32mdef\u001b[0m \u001b[0mevaluate\u001b[0m\u001b[0;34m(\u001b[0m\u001b[0mself\u001b[0m\u001b[0;34m,\u001b[0m \u001b[0mx\u001b[0m\u001b[0;34m,\u001b[0m \u001b[0my\u001b[0m\u001b[0;34m,\u001b[0m \u001b[0mbatch_size\u001b[0m\u001b[0;34m=\u001b[0m\u001b[0;36m32\u001b[0m\u001b[0;34m,\u001b[0m \u001b[0mverbose\u001b[0m\u001b[0;34m=\u001b[0m\u001b[0;36m1\u001b[0m\u001b[0;34m,\u001b[0m \u001b[0msample_weight\u001b[0m\u001b[0;34m=\u001b[0m\u001b[0mNone\u001b[0m\u001b[0;34m)\u001b[0m\u001b[0;34m:\u001b[0m\u001b[0;34m\u001b[0m\u001b[0m\n",
      "\u001b[0;32m/home/ubuntu/anaconda2/lib/python2.7/site-packages/keras/engine/training.pyc\u001b[0m in \u001b[0;36m_fit_loop\u001b[0;34m(self, f, ins, out_labels, batch_size, nb_epoch, verbose, callbacks, val_f, val_ins, shuffle, callback_metrics)\u001b[0m\n\u001b[1;32m    811\u001b[0m                     \u001b[0;32mif\u001b[0m \u001b[0mtype\u001b[0m\u001b[0;34m(\u001b[0m\u001b[0mins\u001b[0m\u001b[0;34m[\u001b[0m\u001b[0;34m-\u001b[0m\u001b[0;36m1\u001b[0m\u001b[0;34m]\u001b[0m\u001b[0;34m)\u001b[0m \u001b[0;32mis\u001b[0m \u001b[0mfloat\u001b[0m\u001b[0;34m:\u001b[0m\u001b[0;34m\u001b[0m\u001b[0m\n\u001b[1;32m    812\u001b[0m                         \u001b[0;31m# do not slice the training phase flag\u001b[0m\u001b[0;34m\u001b[0m\u001b[0;34m\u001b[0m\u001b[0m\n\u001b[0;32m--> 813\u001b[0;31m                         \u001b[0mins_batch\u001b[0m \u001b[0;34m=\u001b[0m \u001b[0mslice_X\u001b[0m\u001b[0;34m(\u001b[0m\u001b[0mins\u001b[0m\u001b[0;34m[\u001b[0m\u001b[0;34m:\u001b[0m\u001b[0;34m-\u001b[0m\u001b[0;36m1\u001b[0m\u001b[0;34m]\u001b[0m\u001b[0;34m,\u001b[0m \u001b[0mbatch_ids\u001b[0m\u001b[0;34m)\u001b[0m \u001b[0;34m+\u001b[0m \u001b[0;34m[\u001b[0m\u001b[0mins\u001b[0m\u001b[0;34m[\u001b[0m\u001b[0;34m-\u001b[0m\u001b[0;36m1\u001b[0m\u001b[0;34m]\u001b[0m\u001b[0;34m]\u001b[0m\u001b[0;34m\u001b[0m\u001b[0m\n\u001b[0m\u001b[1;32m    814\u001b[0m                     \u001b[0;32melse\u001b[0m\u001b[0;34m:\u001b[0m\u001b[0;34m\u001b[0m\u001b[0m\n\u001b[1;32m    815\u001b[0m                         \u001b[0mins_batch\u001b[0m \u001b[0;34m=\u001b[0m \u001b[0mslice_X\u001b[0m\u001b[0;34m(\u001b[0m\u001b[0mins\u001b[0m\u001b[0;34m,\u001b[0m \u001b[0mbatch_ids\u001b[0m\u001b[0;34m)\u001b[0m\u001b[0;34m\u001b[0m\u001b[0m\n",
      "\u001b[0;32m/home/ubuntu/anaconda2/lib/python2.7/site-packages/keras/engine/training.pyc\u001b[0m in \u001b[0;36mslice_X\u001b[0;34m(X, start, stop)\u001b[0m\n\u001b[1;32m    303\u001b[0m             \u001b[0;32mif\u001b[0m \u001b[0mhasattr\u001b[0m\u001b[0;34m(\u001b[0m\u001b[0mstart\u001b[0m\u001b[0;34m,\u001b[0m \u001b[0;34m'shape'\u001b[0m\u001b[0;34m)\u001b[0m\u001b[0;34m:\u001b[0m\u001b[0;34m\u001b[0m\u001b[0m\n\u001b[1;32m    304\u001b[0m                 \u001b[0mstart\u001b[0m \u001b[0;34m=\u001b[0m \u001b[0mstart\u001b[0m\u001b[0;34m.\u001b[0m\u001b[0mtolist\u001b[0m\u001b[0;34m(\u001b[0m\u001b[0;34m)\u001b[0m\u001b[0;34m\u001b[0m\u001b[0m\n\u001b[0;32m--> 305\u001b[0;31m             \u001b[0;32mreturn\u001b[0m \u001b[0;34m[\u001b[0m\u001b[0mx\u001b[0m\u001b[0;34m[\u001b[0m\u001b[0mstart\u001b[0m\u001b[0;34m]\u001b[0m \u001b[0;32mfor\u001b[0m \u001b[0mx\u001b[0m \u001b[0;32min\u001b[0m \u001b[0mX\u001b[0m\u001b[0;34m]\u001b[0m\u001b[0;34m\u001b[0m\u001b[0m\n\u001b[0m\u001b[1;32m    306\u001b[0m         \u001b[0;32melse\u001b[0m\u001b[0;34m:\u001b[0m\u001b[0;34m\u001b[0m\u001b[0m\n\u001b[1;32m    307\u001b[0m             \u001b[0;32mreturn\u001b[0m \u001b[0;34m[\u001b[0m\u001b[0mx\u001b[0m\u001b[0;34m[\u001b[0m\u001b[0mstart\u001b[0m\u001b[0;34m:\u001b[0m\u001b[0mstop\u001b[0m\u001b[0;34m]\u001b[0m \u001b[0;32mfor\u001b[0m \u001b[0mx\u001b[0m \u001b[0;32min\u001b[0m \u001b[0mX\u001b[0m\u001b[0;34m]\u001b[0m\u001b[0;34m\u001b[0m\u001b[0m\n",
      "\u001b[0;32mbcolz/carray_ext.pyx\u001b[0m in \u001b[0;36mbcolz.carray_ext.carray.__getitem__ (bcolz/carray_ext.c:24935)\u001b[0;34m()\u001b[0m\n",
      "\u001b[0;32mbcolz/carray_ext.pyx\u001b[0m in \u001b[0;36mbcolz.carray_ext.carray.__getitem__ (bcolz/carray_ext.c:25277)\u001b[0;34m()\u001b[0m\n",
      "\u001b[0;32mbcolz/carray_ext.pyx\u001b[0m in \u001b[0;36mbcolz.carray_ext.carray.__getitem__ (bcolz/carray_ext.c:24460)\u001b[0;34m()\u001b[0m\n",
      "\u001b[0;32m/home/ubuntu/anaconda2/lib/python2.7/site-packages/numpy/core/fromnumeric.pyc\u001b[0m in \u001b[0;36msqueeze\u001b[0;34m(a, axis)\u001b[0m\n\u001b[1;32m   1160\u001b[0m \u001b[0;34m\u001b[0m\u001b[0m\n\u001b[1;32m   1161\u001b[0m \u001b[0;34m\u001b[0m\u001b[0m\n\u001b[0;32m-> 1162\u001b[0;31m \u001b[0;32mdef\u001b[0m \u001b[0msqueeze\u001b[0m\u001b[0;34m(\u001b[0m\u001b[0ma\u001b[0m\u001b[0;34m,\u001b[0m \u001b[0maxis\u001b[0m\u001b[0;34m=\u001b[0m\u001b[0mNone\u001b[0m\u001b[0;34m)\u001b[0m\u001b[0;34m:\u001b[0m\u001b[0;34m\u001b[0m\u001b[0m\n\u001b[0m\u001b[1;32m   1163\u001b[0m     \"\"\"\n\u001b[1;32m   1164\u001b[0m     \u001b[0mRemove\u001b[0m \u001b[0msingle\u001b[0m\u001b[0;34m-\u001b[0m\u001b[0mdimensional\u001b[0m \u001b[0mentries\u001b[0m \u001b[0;32mfrom\u001b[0m \u001b[0mthe\u001b[0m \u001b[0mshape\u001b[0m \u001b[0mof\u001b[0m \u001b[0man\u001b[0m \u001b[0marray\u001b[0m\u001b[0;34m.\u001b[0m\u001b[0;34m\u001b[0m\u001b[0m\n",
      "\u001b[0;31mKeyboardInterrupt\u001b[0m: "
     ]
    }
   ],
   "source": [
    "denseModelWithoutDropout.compile(Adam(lr=0.001), \n",
    "                  loss='categorical_crossentropy',\n",
    "                  metrics=['accuracy'])\n",
    "denseModelWithoutDropout.fit(NepredictTrainVggConv,train_label_arr,batch_size=64,nb_epoch=10,verbose=1,validation_data=(predictValidationVggConv,valid_label_arr))"
   ]
  },
  {
   "cell_type": "code",
   "execution_count": 105,
   "metadata": {
    "collapsed": false
   },
   "outputs": [
    {
     "name": "stdout",
     "output_type": "stream",
     "text": [
      "Train on 20244 samples, validate on 2180 samples\n",
      "Epoch 1/5\n",
      "20244/20244 [==============================] - 28s - loss: 0.7939 - acc: 0.6577 - val_loss: 0.9803 - val_acc: 0.6922\n",
      "Epoch 2/5\n",
      "20244/20244 [==============================] - 28s - loss: 0.7617 - acc: 0.6671 - val_loss: 0.9572 - val_acc: 0.7041\n",
      "Epoch 3/5\n",
      "20244/20244 [==============================] - 28s - loss: 0.7464 - acc: 0.6749 - val_loss: 0.9700 - val_acc: 0.6931\n",
      "Epoch 4/5\n",
      "20244/20244 [==============================] - 29s - loss: 0.7277 - acc: 0.6816 - val_loss: 0.9609 - val_acc: 0.6972\n",
      "Epoch 5/5\n",
      "20244/20244 [==============================] - 28s - loss: 0.7220 - acc: 0.6888 - val_loss: 0.9869 - val_acc: 0.6858\n"
     ]
    },
    {
     "data": {
      "text/plain": [
       "<keras.callbacks.History at 0x7f16af03bb50>"
      ]
     },
     "execution_count": 105,
     "metadata": {},
     "output_type": "execute_result"
    }
   ],
   "source": [
    "denseModelWithoutDropout.compile(Adam(lr=0.0001), \n",
    "                  loss='categorical_crossentropy',\n",
    "                  metrics=['accuracy'])\n",
    "denseModelWithoutDropout.fit(NepredictTrainVggConv,train_label_arr,batch_size=64,nb_epoch=5,verbose=1,validation_data=(predictValidationVggConv,valid_label_arr))"
   ]
  },
  {
   "cell_type": "code",
   "execution_count": 106,
   "metadata": {
    "collapsed": true
   },
   "outputs": [],
   "source": [
    "denseModelWithoutDropout.save_weights('Dense_model_without_dropout_val_69.h5')"
   ]
  },
  {
   "cell_type": "code",
   "execution_count": 41,
   "metadata": {
    "collapsed": false
   },
   "outputs": [],
   "source": [
    "def genDenseModelWithDrop(layer):\n",
    "    baseModel = Sequential()\n",
    "    baseModel.add(MaxPooling2D(input_shape=layer.output_shape[1:]))\n",
    "    #baseModel.add(Convolution2D(32, 3, 3, activation='relu'))\n",
    "    #baseModel.add(BatchNormalization(axis=1))\n",
    "    #baseModel.add(MaxPooling2D(pool_size=(2,2)))\n",
    "    #baseModel.add(Convolution2D(64, 3, 3, activation='relu'))\n",
    "    #baseModel.add(BatchNormalization(axis=1))\n",
    "    #baseModel.add(MaxPooling2D(pool_size=(2,2)))\n",
    "    baseModel.add(Flatten())\n",
    "    baseModel.add(Dropout(0.2))\n",
    "    baseModel.add(Dense(256,activation='relu'))\n",
    "    baseModel.add(BatchNormalization())\n",
    "    baseModel.add(Dropout(0.4))\n",
    "    baseModel.add(Dense(256,activation='relu'))\n",
    "    baseModel.add(BatchNormalization())\n",
    "    baseModel.add(Dropout(0.8))\n",
    "    baseModel.add(Dense(10,activation='softmax'))\n",
    "    \n",
    "    baseModel.compile(Adam(lr=0.0001), \n",
    "                  loss='categorical_crossentropy',\n",
    "                  metrics=['accuracy'])\n",
    "    \n",
    "    return baseModel"
   ]
  },
  {
   "cell_type": "code",
   "execution_count": 37,
   "metadata": {
    "collapsed": false
   },
   "outputs": [],
   "source": [
    "denseModelwithDrop = genDenseModelWithDrop(vggConvLayersModel.layers[-1])"
   ]
  },
  {
   "cell_type": "code",
   "execution_count": 33,
   "metadata": {
    "collapsed": false
   },
   "outputs": [
    {
     "name": "stdout",
     "output_type": "stream",
     "text": [
      "Train on 20244 samples, validate on 2180 samples\n",
      "Epoch 1/5\n",
      "20244/20244 [==============================] - 44s - loss: 1.6081 - acc: 0.4380 - val_loss: 1.4190 - val_acc: 0.4560\n",
      "Epoch 2/5\n",
      "20244/20244 [==============================] - 23s - loss: 0.9294 - acc: 0.6062 - val_loss: 0.9593 - val_acc: 0.6257\n",
      "Epoch 3/5\n",
      "20244/20244 [==============================] - 24s - loss: 0.7634 - acc: 0.6615 - val_loss: 0.9554 - val_acc: 0.6752\n",
      "Epoch 4/5\n",
      "20244/20244 [==============================] - 24s - loss: 0.6523 - acc: 0.7111 - val_loss: 1.0930 - val_acc: 0.5518\n",
      "Epoch 5/5\n",
      "20244/20244 [==============================] - 24s - loss: 0.5805 - acc: 0.7487 - val_loss: 1.0472 - val_acc: 0.5647\n"
     ]
    },
    {
     "data": {
      "text/plain": [
       "<keras.callbacks.History at 0x7fbc04bb3190>"
      ]
     },
     "execution_count": 33,
     "metadata": {},
     "output_type": "execute_result"
    }
   ],
   "source": [
    "denseModelwithDrop.compile(Adam(lr=0.001), \n",
    "                  loss='categorical_crossentropy',\n",
    "                  metrics=['accuracy'])\n",
    "denseModelwithDrop.fit(NepredictTrainVggConv,train_label_arr,batch_size=64,nb_epoch=5,verbose=1,validation_data=(predictValidationVggConv,valid_label_arr))"
   ]
  },
  {
   "cell_type": "code",
   "execution_count": 34,
   "metadata": {
    "collapsed": false
   },
   "outputs": [
    {
     "name": "stdout",
     "output_type": "stream",
     "text": [
      "Train on 20244 samples, validate on 2180 samples\n",
      "Epoch 1/5\n",
      "20244/20244 [==============================] - 23s - loss: 0.4715 - acc: 0.7987 - val_loss: 1.0130 - val_acc: 0.6161\n",
      "Epoch 2/5\n",
      "20244/20244 [==============================] - 23s - loss: 0.4441 - acc: 0.8105 - val_loss: 0.9971 - val_acc: 0.6243\n",
      "Epoch 3/5\n",
      "20244/20244 [==============================] - 23s - loss: 0.4293 - acc: 0.8251 - val_loss: 0.9805 - val_acc: 0.6367\n",
      "Epoch 4/5\n",
      "20244/20244 [==============================] - 23s - loss: 0.4168 - acc: 0.8291 - val_loss: 0.9911 - val_acc: 0.6399\n",
      "Epoch 5/5\n",
      "20244/20244 [==============================] - 23s - loss: 0.4080 - acc: 0.8359 - val_loss: 0.9904 - val_acc: 0.6367\n"
     ]
    },
    {
     "data": {
      "text/plain": [
       "<keras.callbacks.History at 0x7fbbf6325210>"
      ]
     },
     "execution_count": 34,
     "metadata": {},
     "output_type": "execute_result"
    }
   ],
   "source": [
    "denseModelwithDrop.compile(Adam(lr=0.00001), \n",
    "                  loss='categorical_crossentropy',\n",
    "                  metrics=['accuracy'])\n",
    "denseModelwithDrop.fit(NepredictTrainVggConv,train_label_arr,batch_size=64,nb_epoch=5,verbose=1,validation_data=(predictValidationVggConv,valid_label_arr))"
   ]
  },
  {
   "cell_type": "code",
   "execution_count": 38,
   "metadata": {
    "collapsed": false,
    "scrolled": true
   },
   "outputs": [
    {
     "name": "stdout",
     "output_type": "stream",
     "text": [
      "Train on 20244 samples, validate on 2180 samples\n",
      "Epoch 1/10\n",
      "20244/20244 [==============================] - 23s - loss: 2.3514 - acc: 0.2896 - val_loss: 1.0994 - val_acc: 0.6193\n",
      "Epoch 2/10\n",
      "20244/20244 [==============================] - 23s - loss: 1.5046 - acc: 0.4801 - val_loss: 1.1097 - val_acc: 0.6050\n",
      "Epoch 3/10\n",
      "20244/20244 [==============================] - 24s - loss: 1.2177 - acc: 0.5515 - val_loss: 1.0764 - val_acc: 0.6202\n",
      "Epoch 4/10\n",
      "20244/20244 [==============================] - 24s - loss: 1.0583 - acc: 0.5923 - val_loss: 1.0168 - val_acc: 0.6468\n",
      "Epoch 5/10\n",
      "20244/20244 [==============================] - 24s - loss: 0.9595 - acc: 0.6209 - val_loss: 0.9974 - val_acc: 0.6408\n",
      "Epoch 6/10\n",
      "20244/20244 [==============================] - 24s - loss: 0.8854 - acc: 0.6453 - val_loss: 0.9042 - val_acc: 0.6784\n",
      "Epoch 7/10\n",
      "20244/20244 [==============================] - 24s - loss: 0.8110 - acc: 0.6697 - val_loss: 0.9513 - val_acc: 0.6431\n",
      "Epoch 8/10\n",
      "20244/20244 [==============================] - 24s - loss: 0.7489 - acc: 0.6929 - val_loss: 0.9609 - val_acc: 0.6431\n",
      "Epoch 9/10\n",
      "20244/20244 [==============================] - 24s - loss: 0.7202 - acc: 0.7026 - val_loss: 0.8955 - val_acc: 0.6358\n",
      "Epoch 10/10\n",
      "20244/20244 [==============================] - 24s - loss: 0.6712 - acc: 0.7173 - val_loss: 0.9347 - val_acc: 0.6573\n"
     ]
    },
    {
     "data": {
      "text/plain": [
       "<keras.callbacks.History at 0x7fbbf4867d50>"
      ]
     },
     "execution_count": 38,
     "metadata": {},
     "output_type": "execute_result"
    }
   ],
   "source": [
    "denseModelwithDrop.compile(Adam(lr=0.0001), \n",
    "                  loss='categorical_crossentropy',\n",
    "                  metrics=['accuracy'])\n",
    "denseModelwithDrop.fit(NepredictTrainVggConv,train_label_arr,batch_size=64,nb_epoch=10,verbose=1,validation_data=(predictValidationVggConv,valid_label_arr))"
   ]
  },
  {
   "cell_type": "code",
   "execution_count": 42,
   "metadata": {
    "collapsed": true
   },
   "outputs": [
    {
     "name": "stdout",
     "output_type": "stream",
     "text": [
      "Train on 20244 samples, validate on 2180 samples\n",
      "Epoch 1/10\n",
      "20244/20244 [==============================] - 24s - loss: 0.4475 - acc: 0.8196 - val_loss: 1.2597 - val_acc: 0.5445\n",
      "Epoch 2/10\n",
      "20244/20244 [==============================] - 24s - loss: 0.4166 - acc: 0.8300 - val_loss: 1.1192 - val_acc: 0.5431\n",
      "Epoch 3/10\n",
      "20244/20244 [==============================] - 24s - loss: 0.4010 - acc: 0.8402 - val_loss: 1.1579 - val_acc: 0.5904\n",
      "Epoch 4/10\n",
      "20244/20244 [==============================] - 24s - loss: 0.3794 - acc: 0.8473 - val_loss: 1.1888 - val_acc: 0.5564\n",
      "Epoch 5/10\n",
      "10112/20244 [=============>................] - ETA: 11s - loss: 0.3594 - acc: 0.8567"
     ]
    },
    {
     "ename": "KeyboardInterrupt",
     "evalue": "",
     "output_type": "error",
     "traceback": [
      "\u001b[0;31m---------------------------------------------------------------------------\u001b[0m",
      "\u001b[0;31mKeyboardInterrupt\u001b[0m                         Traceback (most recent call last)",
      "\u001b[0;32m<ipython-input-42-63fbbb202770>\u001b[0m in \u001b[0;36m<module>\u001b[0;34m()\u001b[0m\n\u001b[1;32m      2\u001b[0m                   \u001b[0mloss\u001b[0m\u001b[0;34m=\u001b[0m\u001b[0;34m'categorical_crossentropy'\u001b[0m\u001b[0;34m,\u001b[0m\u001b[0;34m\u001b[0m\u001b[0m\n\u001b[1;32m      3\u001b[0m                   metrics=['accuracy'])\n\u001b[0;32m----> 4\u001b[0;31m \u001b[0mdenseModelwithDrop\u001b[0m\u001b[0;34m.\u001b[0m\u001b[0mfit\u001b[0m\u001b[0;34m(\u001b[0m\u001b[0mNepredictTrainVggConv\u001b[0m\u001b[0;34m,\u001b[0m\u001b[0mtrain_label_arr\u001b[0m\u001b[0;34m,\u001b[0m\u001b[0mbatch_size\u001b[0m\u001b[0;34m=\u001b[0m\u001b[0;36m64\u001b[0m\u001b[0;34m,\u001b[0m\u001b[0mnb_epoch\u001b[0m\u001b[0;34m=\u001b[0m\u001b[0;36m10\u001b[0m\u001b[0;34m,\u001b[0m\u001b[0mverbose\u001b[0m\u001b[0;34m=\u001b[0m\u001b[0;36m1\u001b[0m\u001b[0;34m,\u001b[0m\u001b[0mvalidation_data\u001b[0m\u001b[0;34m=\u001b[0m\u001b[0;34m(\u001b[0m\u001b[0mpredictValidationVggConv\u001b[0m\u001b[0;34m,\u001b[0m\u001b[0mvalid_label_arr\u001b[0m\u001b[0;34m)\u001b[0m\u001b[0;34m)\u001b[0m\u001b[0;34m\u001b[0m\u001b[0m\n\u001b[0m",
      "\u001b[0;32m/home/ubuntu/anaconda2/lib/python2.7/site-packages/keras/models.pyc\u001b[0m in \u001b[0;36mfit\u001b[0;34m(self, x, y, batch_size, nb_epoch, verbose, callbacks, validation_split, validation_data, shuffle, class_weight, sample_weight, **kwargs)\u001b[0m\n\u001b[1;32m    618\u001b[0m                               \u001b[0mshuffle\u001b[0m\u001b[0;34m=\u001b[0m\u001b[0mshuffle\u001b[0m\u001b[0;34m,\u001b[0m\u001b[0;34m\u001b[0m\u001b[0m\n\u001b[1;32m    619\u001b[0m                               \u001b[0mclass_weight\u001b[0m\u001b[0;34m=\u001b[0m\u001b[0mclass_weight\u001b[0m\u001b[0;34m,\u001b[0m\u001b[0;34m\u001b[0m\u001b[0m\n\u001b[0;32m--> 620\u001b[0;31m                               sample_weight=sample_weight)\n\u001b[0m\u001b[1;32m    621\u001b[0m \u001b[0;34m\u001b[0m\u001b[0m\n\u001b[1;32m    622\u001b[0m     def evaluate(self, x, y, batch_size=32, verbose=1,\n",
      "\u001b[0;32m/home/ubuntu/anaconda2/lib/python2.7/site-packages/keras/engine/training.pyc\u001b[0m in \u001b[0;36mfit\u001b[0;34m(self, x, y, batch_size, nb_epoch, verbose, callbacks, validation_split, validation_data, shuffle, class_weight, sample_weight)\u001b[0m\n\u001b[1;32m   1104\u001b[0m                               \u001b[0mverbose\u001b[0m\u001b[0;34m=\u001b[0m\u001b[0mverbose\u001b[0m\u001b[0;34m,\u001b[0m \u001b[0mcallbacks\u001b[0m\u001b[0;34m=\u001b[0m\u001b[0mcallbacks\u001b[0m\u001b[0;34m,\u001b[0m\u001b[0;34m\u001b[0m\u001b[0m\n\u001b[1;32m   1105\u001b[0m                               \u001b[0mval_f\u001b[0m\u001b[0;34m=\u001b[0m\u001b[0mval_f\u001b[0m\u001b[0;34m,\u001b[0m \u001b[0mval_ins\u001b[0m\u001b[0;34m=\u001b[0m\u001b[0mval_ins\u001b[0m\u001b[0;34m,\u001b[0m \u001b[0mshuffle\u001b[0m\u001b[0;34m=\u001b[0m\u001b[0mshuffle\u001b[0m\u001b[0;34m,\u001b[0m\u001b[0;34m\u001b[0m\u001b[0m\n\u001b[0;32m-> 1106\u001b[0;31m                               callback_metrics=callback_metrics)\n\u001b[0m\u001b[1;32m   1107\u001b[0m \u001b[0;34m\u001b[0m\u001b[0m\n\u001b[1;32m   1108\u001b[0m     \u001b[0;32mdef\u001b[0m \u001b[0mevaluate\u001b[0m\u001b[0;34m(\u001b[0m\u001b[0mself\u001b[0m\u001b[0;34m,\u001b[0m \u001b[0mx\u001b[0m\u001b[0;34m,\u001b[0m \u001b[0my\u001b[0m\u001b[0;34m,\u001b[0m \u001b[0mbatch_size\u001b[0m\u001b[0;34m=\u001b[0m\u001b[0;36m32\u001b[0m\u001b[0;34m,\u001b[0m \u001b[0mverbose\u001b[0m\u001b[0;34m=\u001b[0m\u001b[0;36m1\u001b[0m\u001b[0;34m,\u001b[0m \u001b[0msample_weight\u001b[0m\u001b[0;34m=\u001b[0m\u001b[0mNone\u001b[0m\u001b[0;34m)\u001b[0m\u001b[0;34m:\u001b[0m\u001b[0;34m\u001b[0m\u001b[0m\n",
      "\u001b[0;32m/home/ubuntu/anaconda2/lib/python2.7/site-packages/keras/engine/training.pyc\u001b[0m in \u001b[0;36m_fit_loop\u001b[0;34m(self, f, ins, out_labels, batch_size, nb_epoch, verbose, callbacks, val_f, val_ins, shuffle, callback_metrics)\u001b[0m\n\u001b[1;32m    811\u001b[0m                     \u001b[0;32mif\u001b[0m \u001b[0mtype\u001b[0m\u001b[0;34m(\u001b[0m\u001b[0mins\u001b[0m\u001b[0;34m[\u001b[0m\u001b[0;34m-\u001b[0m\u001b[0;36m1\u001b[0m\u001b[0;34m]\u001b[0m\u001b[0;34m)\u001b[0m \u001b[0;32mis\u001b[0m \u001b[0mfloat\u001b[0m\u001b[0;34m:\u001b[0m\u001b[0;34m\u001b[0m\u001b[0m\n\u001b[1;32m    812\u001b[0m                         \u001b[0;31m# do not slice the training phase flag\u001b[0m\u001b[0;34m\u001b[0m\u001b[0;34m\u001b[0m\u001b[0m\n\u001b[0;32m--> 813\u001b[0;31m                         \u001b[0mins_batch\u001b[0m \u001b[0;34m=\u001b[0m \u001b[0mslice_X\u001b[0m\u001b[0;34m(\u001b[0m\u001b[0mins\u001b[0m\u001b[0;34m[\u001b[0m\u001b[0;34m:\u001b[0m\u001b[0;34m-\u001b[0m\u001b[0;36m1\u001b[0m\u001b[0;34m]\u001b[0m\u001b[0;34m,\u001b[0m \u001b[0mbatch_ids\u001b[0m\u001b[0;34m)\u001b[0m \u001b[0;34m+\u001b[0m \u001b[0;34m[\u001b[0m\u001b[0mins\u001b[0m\u001b[0;34m[\u001b[0m\u001b[0;34m-\u001b[0m\u001b[0;36m1\u001b[0m\u001b[0;34m]\u001b[0m\u001b[0;34m]\u001b[0m\u001b[0;34m\u001b[0m\u001b[0m\n\u001b[0m\u001b[1;32m    814\u001b[0m                     \u001b[0;32melse\u001b[0m\u001b[0;34m:\u001b[0m\u001b[0;34m\u001b[0m\u001b[0m\n\u001b[1;32m    815\u001b[0m                         \u001b[0mins_batch\u001b[0m \u001b[0;34m=\u001b[0m \u001b[0mslice_X\u001b[0m\u001b[0;34m(\u001b[0m\u001b[0mins\u001b[0m\u001b[0;34m,\u001b[0m \u001b[0mbatch_ids\u001b[0m\u001b[0;34m)\u001b[0m\u001b[0;34m\u001b[0m\u001b[0m\n",
      "\u001b[0;32m/home/ubuntu/anaconda2/lib/python2.7/site-packages/keras/engine/training.pyc\u001b[0m in \u001b[0;36mslice_X\u001b[0;34m(X, start, stop)\u001b[0m\n\u001b[1;32m    303\u001b[0m             \u001b[0;32mif\u001b[0m \u001b[0mhasattr\u001b[0m\u001b[0;34m(\u001b[0m\u001b[0mstart\u001b[0m\u001b[0;34m,\u001b[0m \u001b[0;34m'shape'\u001b[0m\u001b[0;34m)\u001b[0m\u001b[0;34m:\u001b[0m\u001b[0;34m\u001b[0m\u001b[0m\n\u001b[1;32m    304\u001b[0m                 \u001b[0mstart\u001b[0m \u001b[0;34m=\u001b[0m \u001b[0mstart\u001b[0m\u001b[0;34m.\u001b[0m\u001b[0mtolist\u001b[0m\u001b[0;34m(\u001b[0m\u001b[0;34m)\u001b[0m\u001b[0;34m\u001b[0m\u001b[0m\n\u001b[0;32m--> 305\u001b[0;31m             \u001b[0;32mreturn\u001b[0m \u001b[0;34m[\u001b[0m\u001b[0mx\u001b[0m\u001b[0;34m[\u001b[0m\u001b[0mstart\u001b[0m\u001b[0;34m]\u001b[0m \u001b[0;32mfor\u001b[0m \u001b[0mx\u001b[0m \u001b[0;32min\u001b[0m \u001b[0mX\u001b[0m\u001b[0;34m]\u001b[0m\u001b[0;34m\u001b[0m\u001b[0m\n\u001b[0m\u001b[1;32m    306\u001b[0m         \u001b[0;32melse\u001b[0m\u001b[0;34m:\u001b[0m\u001b[0;34m\u001b[0m\u001b[0m\n\u001b[1;32m    307\u001b[0m             \u001b[0;32mreturn\u001b[0m \u001b[0;34m[\u001b[0m\u001b[0mx\u001b[0m\u001b[0;34m[\u001b[0m\u001b[0mstart\u001b[0m\u001b[0;34m:\u001b[0m\u001b[0mstop\u001b[0m\u001b[0;34m]\u001b[0m \u001b[0;32mfor\u001b[0m \u001b[0mx\u001b[0m \u001b[0;32min\u001b[0m \u001b[0mX\u001b[0m\u001b[0;34m]\u001b[0m\u001b[0;34m\u001b[0m\u001b[0m\n",
      "\u001b[0;32mbcolz/carray_ext.pyx\u001b[0m in \u001b[0;36mbcolz.carray_ext.carray.__getitem__ (bcolz/carray_ext.c:24935)\u001b[0;34m()\u001b[0m\n",
      "\u001b[0;32mbcolz/carray_ext.pyx\u001b[0m in \u001b[0;36mbcolz.carray_ext.carray.__getitem__ (bcolz/carray_ext.c:25277)\u001b[0;34m()\u001b[0m\n",
      "\u001b[0;32mbcolz/carray_ext.pyx\u001b[0m in \u001b[0;36mbcolz.carray_ext.carray.__getitem__ (bcolz/carray_ext.c:24460)\u001b[0;34m()\u001b[0m\n",
      "\u001b[0;32m/home/ubuntu/anaconda2/lib/python2.7/site-packages/numpy/core/fromnumeric.pyc\u001b[0m in \u001b[0;36msqueeze\u001b[0;34m(a, axis)\u001b[0m\n\u001b[1;32m   1160\u001b[0m \u001b[0;34m\u001b[0m\u001b[0m\n\u001b[1;32m   1161\u001b[0m \u001b[0;34m\u001b[0m\u001b[0m\n\u001b[0;32m-> 1162\u001b[0;31m \u001b[0;32mdef\u001b[0m \u001b[0msqueeze\u001b[0m\u001b[0;34m(\u001b[0m\u001b[0ma\u001b[0m\u001b[0;34m,\u001b[0m \u001b[0maxis\u001b[0m\u001b[0;34m=\u001b[0m\u001b[0mNone\u001b[0m\u001b[0;34m)\u001b[0m\u001b[0;34m:\u001b[0m\u001b[0;34m\u001b[0m\u001b[0m\n\u001b[0m\u001b[1;32m   1163\u001b[0m     \"\"\"\n\u001b[1;32m   1164\u001b[0m     \u001b[0mRemove\u001b[0m \u001b[0msingle\u001b[0m\u001b[0;34m-\u001b[0m\u001b[0mdimensional\u001b[0m \u001b[0mentries\u001b[0m \u001b[0;32mfrom\u001b[0m \u001b[0mthe\u001b[0m \u001b[0mshape\u001b[0m \u001b[0mof\u001b[0m \u001b[0man\u001b[0m \u001b[0marray\u001b[0m\u001b[0;34m.\u001b[0m\u001b[0;34m\u001b[0m\u001b[0m\n",
      "\u001b[0;31mKeyboardInterrupt\u001b[0m: "
     ]
    }
   ],
   "source": [
    "denseModelwithDrop.compile(Adam(lr=0.0001), \n",
    "                  loss='categorical_crossentropy',\n",
    "                  metrics=['accuracy'])\n",
    "denseModelwithDrop.fit(NepredictTrainVggConv,train_label_arr,batch_size=64,nb_epoch=10,verbose=1,validation_data=(predictValidationVggConv,valid_label_arr))"
   ]
  },
  {
   "cell_type": "markdown",
   "metadata": {},
   "source": [
    "# Predictions"
   ]
  },
  {
   "cell_type": "code",
   "execution_count": 47,
   "metadata": {
    "collapsed": true
   },
   "outputs": [],
   "source": [
    "denseModelWithoutDropout.load_weights('Dense_model_without_dropout_val_69.h5')\n",
    "def do_clip(arr, mx): return np.clip(arr, (1-mx)/9, mx)\n"
   ]
  },
  {
   "cell_type": "code",
   "execution_count": 48,
   "metadata": {
    "collapsed": true
   },
   "outputs": [],
   "source": [
    "def do_clip(arr,mx): return np.clip(arr,(1-mx)/9, mx)\n"
   ]
  },
  {
   "cell_type": "code",
   "execution_count": 52,
   "metadata": {
    "collapsed": true
   },
   "outputs": [],
   "source": [
    "predictTest = denseModelWithoutDropout.predict(predict_test_on_VggConv)"
   ]
  },
  {
   "cell_type": "code",
   "execution_count": 53,
   "metadata": {
    "collapsed": false
   },
   "outputs": [
    {
     "data": {
      "text/plain": [
       "array([[  1.5315e-03,   4.1643e-04,   1.4970e-04,   1.1657e-04,   4.3386e-04,   4.0016e-03,\n",
       "          2.7593e-02,   1.5262e-01,   6.7707e-01,   1.3607e-01],\n",
       "       [  1.0585e-01,   1.9827e-03,   2.0686e-04,   8.2657e-04,   6.4406e-03,   2.2795e-02,\n",
       "          8.9233e-03,   1.2223e-02,   2.1527e-01,   6.2548e-01],\n",
       "       [  2.8955e-02,   4.7932e-03,   5.4716e-02,   4.4092e-01,   3.7671e-01,   1.2082e-02,\n",
       "          2.7328e-03,   6.6634e-03,   2.8934e-02,   4.3491e-02],\n",
       "       [  1.7397e-03,   4.2695e-03,   2.4025e-03,   1.6384e-03,   4.2070e-03,   6.2756e-02,\n",
       "          5.6232e-01,   2.9445e-01,   6.0709e-02,   5.5036e-03],\n",
       "       [  1.8244e-02,   2.3785e-03,   6.5692e-04,   6.7714e-04,   2.0919e-03,   3.2355e-03,\n",
       "          2.7286e-03,   4.1974e-02,   6.7876e-01,   2.4925e-01]], dtype=float32)"
      ]
     },
     "execution_count": 53,
     "metadata": {},
     "output_type": "execute_result"
    }
   ],
   "source": [
    "predictTest[:5]"
   ]
  },
  {
   "cell_type": "code",
   "execution_count": 54,
   "metadata": {
    "collapsed": true
   },
   "outputs": [],
   "source": [
    "clip_test_predict = do_clip(predictTest, 0.93)"
   ]
  },
  {
   "cell_type": "code",
   "execution_count": 56,
   "metadata": {
    "collapsed": false
   },
   "outputs": [
    {
     "data": {
      "text/plain": [
       "['c0', 'c1', 'c2', 'c3', 'c4', 'c5', 'c6', 'c7', 'c8', 'c9']"
      ]
     },
     "execution_count": 56,
     "metadata": {},
     "output_type": "execute_result"
    }
   ],
   "source": [
    "classes = sorted(val_batches.class_indices, key=val_batches.class_indices.get)\n",
    "classes"
   ]
  },
  {
   "cell_type": "code",
   "execution_count": 100,
   "metadata": {
    "collapsed": false
   },
   "outputs": [
    {
     "name": "stdout",
     "output_type": "stream",
     "text": [
      "/home/ubuntu/courses/deeplearning1/nbs\n"
     ]
    }
   ],
   "source": [
    "%cd .."
   ]
  },
  {
   "cell_type": "code",
   "execution_count": 99,
   "metadata": {
    "collapsed": true
   },
   "outputs": [],
   "source": [
    "subm_name006 = 'kag6.csv'"
   ]
  },
  {
   "cell_type": "code",
   "execution_count": 58,
   "metadata": {
    "collapsed": false
   },
   "outputs": [
    {
     "data": {
      "text/html": [
       "<div>\n",
       "<table border=\"1\" class=\"dataframe\">\n",
       "  <thead>\n",
       "    <tr style=\"text-align: right;\">\n",
       "      <th></th>\n",
       "      <th>c0</th>\n",
       "      <th>c1</th>\n",
       "      <th>c2</th>\n",
       "      <th>c3</th>\n",
       "      <th>c4</th>\n",
       "      <th>c5</th>\n",
       "      <th>c6</th>\n",
       "      <th>c7</th>\n",
       "      <th>c8</th>\n",
       "      <th>c9</th>\n",
       "    </tr>\n",
       "  </thead>\n",
       "  <tbody>\n",
       "    <tr>\n",
       "      <th>0</th>\n",
       "      <td>0.007778</td>\n",
       "      <td>0.007778</td>\n",
       "      <td>0.007778</td>\n",
       "      <td>0.007778</td>\n",
       "      <td>0.007778</td>\n",
       "      <td>0.007778</td>\n",
       "      <td>0.027593</td>\n",
       "      <td>0.152616</td>\n",
       "      <td>0.677074</td>\n",
       "      <td>0.136067</td>\n",
       "    </tr>\n",
       "    <tr>\n",
       "      <th>1</th>\n",
       "      <td>0.105853</td>\n",
       "      <td>0.007778</td>\n",
       "      <td>0.007778</td>\n",
       "      <td>0.007778</td>\n",
       "      <td>0.007778</td>\n",
       "      <td>0.022795</td>\n",
       "      <td>0.008923</td>\n",
       "      <td>0.012223</td>\n",
       "      <td>0.215273</td>\n",
       "      <td>0.625476</td>\n",
       "    </tr>\n",
       "    <tr>\n",
       "      <th>2</th>\n",
       "      <td>0.028955</td>\n",
       "      <td>0.007778</td>\n",
       "      <td>0.054716</td>\n",
       "      <td>0.440919</td>\n",
       "      <td>0.376712</td>\n",
       "      <td>0.012082</td>\n",
       "      <td>0.007778</td>\n",
       "      <td>0.007778</td>\n",
       "      <td>0.028934</td>\n",
       "      <td>0.043491</td>\n",
       "    </tr>\n",
       "    <tr>\n",
       "      <th>3</th>\n",
       "      <td>0.007778</td>\n",
       "      <td>0.007778</td>\n",
       "      <td>0.007778</td>\n",
       "      <td>0.007778</td>\n",
       "      <td>0.007778</td>\n",
       "      <td>0.062756</td>\n",
       "      <td>0.562319</td>\n",
       "      <td>0.294455</td>\n",
       "      <td>0.060709</td>\n",
       "      <td>0.007778</td>\n",
       "    </tr>\n",
       "    <tr>\n",
       "      <th>4</th>\n",
       "      <td>0.018244</td>\n",
       "      <td>0.007778</td>\n",
       "      <td>0.007778</td>\n",
       "      <td>0.007778</td>\n",
       "      <td>0.007778</td>\n",
       "      <td>0.007778</td>\n",
       "      <td>0.007778</td>\n",
       "      <td>0.041974</td>\n",
       "      <td>0.678765</td>\n",
       "      <td>0.249249</td>\n",
       "    </tr>\n",
       "  </tbody>\n",
       "</table>\n",
       "</div>"
      ],
      "text/plain": [
       "         c0        c1        c2        c3        c4        c5        c6  \\\n",
       "0  0.007778  0.007778  0.007778  0.007778  0.007778  0.007778  0.027593   \n",
       "1  0.105853  0.007778  0.007778  0.007778  0.007778  0.022795  0.008923   \n",
       "2  0.028955  0.007778  0.054716  0.440919  0.376712  0.012082  0.007778   \n",
       "3  0.007778  0.007778  0.007778  0.007778  0.007778  0.062756  0.562319   \n",
       "4  0.018244  0.007778  0.007778  0.007778  0.007778  0.007778  0.007778   \n",
       "\n",
       "         c7        c8        c9  \n",
       "0  0.152616  0.677074  0.136067  \n",
       "1  0.012223  0.215273  0.625476  \n",
       "2  0.007778  0.028934  0.043491  \n",
       "3  0.294455  0.060709  0.007778  \n",
       "4  0.041974  0.678765  0.249249  "
      ]
     },
     "execution_count": 58,
     "metadata": {},
     "output_type": "execute_result"
    }
   ],
   "source": [
    "submission = pd.DataFrame(clip_test_predict, columns=classes)\n",
    "submission.head()"
   ]
  },
  {
   "cell_type": "code",
   "execution_count": 60,
   "metadata": {
    "collapsed": false
   },
   "outputs": [],
   "source": [
    "test_file_names_arr=test_batch.filenames"
   ]
  },
  {
   "cell_type": "code",
   "execution_count": 89,
   "metadata": {
    "collapsed": false
   },
   "outputs": [],
   "source": [
    "submission.to_csv(subm_name006, index=False)"
   ]
  },
  {
   "cell_type": "code",
   "execution_count": 102,
   "metadata": {
    "collapsed": false
   },
   "outputs": [
    {
     "data": {
      "text/html": [
       "<a href='data/statefarm/kag6.csv' target='_blank'>data/statefarm/kag6.csv</a><br>"
      ],
      "text/plain": [
       "/home/ubuntu/courses/deeplearning1/nbs/data/statefarm/kag6.csv"
      ]
     },
     "execution_count": 102,
     "metadata": {},
     "output_type": "execute_result"
    }
   ],
   "source": [
    "FileLink('data/statefarm/'+subm_name006)"
   ]
  },
  {
   "cell_type": "markdown",
   "metadata": {
    "collapsed": true
   },
   "source": [
    "# With More Data"
   ]
  },
  {
   "cell_type": "code",
   "execution_count": 103,
   "metadata": {
    "collapsed": true
   },
   "outputs": [],
   "source": [
    "imgGen = image.ImageDataGenerator(rotation_range=15, height_shift_range=0.05, \n",
    "                                  shear_range=0.1, channel_shift_range=20, width_shift_range=0.1)"
   ]
  },
  {
   "cell_type": "code",
   "execution_count": 105,
   "metadata": {
    "collapsed": false
   },
   "outputs": [
    {
     "name": "stdout",
     "output_type": "stream",
     "text": [
      "Found 20244 images belonging to 10 classes.\n"
     ]
    }
   ],
   "source": [
    "\n",
    "augmentTrainBatch = imgGen.flow_from_directory(directory=path+'train', batch_size=32, target_size=(224,224), \n",
    "                                               shuffle=False, class_mode='categorical')"
   ]
  },
  {
   "cell_type": "code",
   "execution_count": 106,
   "metadata": {
    "collapsed": true
   },
   "outputs": [],
   "source": [
    "# predict X5 the augmented train batch on VGG16 conv layers\n",
    "predict_5X_augment_train_vgg_conv = vggConvLayersModel.predict_generator(augmentTrainBatch, augmentTrainBatch.N*3)"
   ]
  },
  {
   "cell_type": "code",
   "execution_count": 107,
   "metadata": {
    "collapsed": true
   },
   "outputs": [],
   "source": [
    "train_labels_arr = onehot(augmentTrainBatch.classes)"
   ]
  },
  {
   "cell_type": "code",
   "execution_count": 108,
   "metadata": {
    "collapsed": true
   },
   "outputs": [],
   "source": [
    "X5_train_labels_arr = np.concatenate([train_labels_arr]*3)"
   ]
  },
  {
   "cell_type": "code",
   "execution_count": 109,
   "metadata": {
    "collapsed": true
   },
   "outputs": [],
   "source": [
    "save_array('X5_train_labels_arr.dat', X5_train_labels_arr)"
   ]
  },
  {
   "cell_type": "code",
   "execution_count": 110,
   "metadata": {
    "collapsed": true
   },
   "outputs": [],
   "source": [
    "save_array('predict_5X_augment_train_vgg_conv.dat', predict_5X_augment_train_vgg_conv)"
   ]
  },
  {
   "cell_type": "code",
   "execution_count": 111,
   "metadata": {
    "collapsed": true
   },
   "outputs": [],
   "source": [
    "predict_5X_augment_train_vgg_conv = load_carray('predict_5X_augment_train_vgg_conv.dat')"
   ]
  },
  {
   "cell_type": "code",
   "execution_count": 112,
   "metadata": {
    "collapsed": true
   },
   "outputs": [],
   "source": [
    "X5_train_labels_arr = load_array('X5_train_labels_arr.dat')"
   ]
  },
  {
   "cell_type": "code",
   "execution_count": 113,
   "metadata": {
    "collapsed": false
   },
   "outputs": [
    {
     "data": {
      "text/plain": [
       "(60732, 512, 14, 14)"
      ]
     },
     "execution_count": 113,
     "metadata": {},
     "output_type": "execute_result"
    }
   ],
   "source": [
    "predict_5X_augment_train_vgg_conv.shape"
   ]
  },
  {
   "cell_type": "code",
   "execution_count": 114,
   "metadata": {
    "collapsed": false
   },
   "outputs": [
    {
     "data": {
      "text/plain": [
       "(60732, 10)"
      ]
     },
     "execution_count": 114,
     "metadata": {},
     "output_type": "execute_result"
    }
   ],
   "source": [
    "X5_train_labels_arr.shape"
   ]
  },
  {
   "cell_type": "code",
   "execution_count": 115,
   "metadata": {
    "collapsed": false
   },
   "outputs": [
    {
     "name": "stdout",
     "output_type": "stream",
     "text": [
      "Train on 60732 samples, validate on 2180 samples\n",
      "Epoch 1/1\n",
      "60732/60732 [==============================] - 40s - loss: 0.3663 - acc: 0.8910 - val_loss: 0.5005 - val_acc: 0.8206\n"
     ]
    },
    {
     "data": {
      "text/plain": [
       "<keras.callbacks.History at 0x7fbbf2328fd0>"
      ]
     },
     "execution_count": 115,
     "metadata": {},
     "output_type": "execute_result"
    }
   ],
   "source": [
    "denseModelWithoutDropout.fit(predict_5X_augment_train_vgg_conv[:], X5_train_labels_arr,  nb_epoch=1, verbose=1, \n",
    "               validation_data=(predictValidationVggConv,valid_label_arr))"
   ]
  },
  {
   "cell_type": "code",
   "execution_count": 116,
   "metadata": {
    "collapsed": true
   },
   "outputs": [],
   "source": [
    "denseModelWithoutDropout.optimizer.lr=0.000001"
   ]
  },
  {
   "cell_type": "code",
   "execution_count": 117,
   "metadata": {
    "collapsed": false
   },
   "outputs": [
    {
     "name": "stdout",
     "output_type": "stream",
     "text": [
      "Train on 60732 samples, validate on 2180 samples\n",
      "Epoch 1/25\n",
      "60732/60732 [==============================] - 44s - loss: 0.2398 - acc: 0.9280 - val_loss: 0.5103 - val_acc: 0.8367\n",
      "Epoch 2/25\n",
      "60732/60732 [==============================] - 42s - loss: 0.1872 - acc: 0.9434 - val_loss: 0.4909 - val_acc: 0.8413\n",
      "Epoch 3/25\n",
      "60732/60732 [==============================] - 40s - loss: 0.1608 - acc: 0.9512 - val_loss: 0.4363 - val_acc: 0.8541\n",
      "Epoch 4/25\n",
      "60732/60732 [==============================] - 39s - loss: 0.1342 - acc: 0.9597 - val_loss: 0.4480 - val_acc: 0.8514\n",
      "Epoch 5/25\n",
      "60732/60732 [==============================] - 39s - loss: 0.1202 - acc: 0.9644 - val_loss: 0.4577 - val_acc: 0.8587\n",
      "Epoch 6/25\n",
      "60732/60732 [==============================] - 38s - loss: 0.1052 - acc: 0.9682 - val_loss: 0.4937 - val_acc: 0.8546\n",
      "Epoch 7/25\n",
      "60732/60732 [==============================] - 38s - loss: 0.0978 - acc: 0.9701 - val_loss: 0.4607 - val_acc: 0.8573\n",
      "Epoch 8/25\n",
      "60732/60732 [==============================] - 38s - loss: 0.0866 - acc: 0.9732 - val_loss: 0.4532 - val_acc: 0.8693\n",
      "Epoch 9/25\n",
      "60732/60732 [==============================] - 38s - loss: 0.0835 - acc: 0.9744 - val_loss: 0.5014 - val_acc: 0.8532\n",
      "Epoch 10/25\n",
      "60732/60732 [==============================] - 39s - loss: 0.0737 - acc: 0.9772 - val_loss: 0.4902 - val_acc: 0.8642\n",
      "Epoch 11/25\n",
      "60732/60732 [==============================] - 39s - loss: 0.0679 - acc: 0.9793 - val_loss: 0.4197 - val_acc: 0.8803\n",
      "Epoch 12/25\n",
      "60732/60732 [==============================] - 39s - loss: 0.0643 - acc: 0.9802 - val_loss: 0.4406 - val_acc: 0.8798\n",
      "Epoch 13/25\n",
      "60732/60732 [==============================] - 38s - loss: 0.0608 - acc: 0.9813 - val_loss: 0.4411 - val_acc: 0.8766\n",
      "Epoch 14/25\n",
      "60732/60732 [==============================] - 38s - loss: 0.0590 - acc: 0.9814 - val_loss: 0.4206 - val_acc: 0.8798\n",
      "Epoch 15/25\n",
      "60732/60732 [==============================] - 39s - loss: 0.0546 - acc: 0.9825 - val_loss: 0.5022 - val_acc: 0.8628\n",
      "Epoch 16/25\n",
      "60732/60732 [==============================] - 39s - loss: 0.0508 - acc: 0.9842 - val_loss: 0.4863 - val_acc: 0.8633\n",
      "Epoch 17/25\n",
      "60732/60732 [==============================] - 38s - loss: 0.0492 - acc: 0.9846 - val_loss: 0.4311 - val_acc: 0.8876\n",
      "Epoch 18/25\n",
      "60732/60732 [==============================] - 38s - loss: 0.0462 - acc: 0.9855 - val_loss: 0.4512 - val_acc: 0.8752\n",
      "Epoch 19/25\n",
      "60732/60732 [==============================] - 38s - loss: 0.0438 - acc: 0.9866 - val_loss: 0.4493 - val_acc: 0.8697\n",
      "Epoch 20/25\n",
      "60732/60732 [==============================] - 38s - loss: 0.0429 - acc: 0.9864 - val_loss: 0.4686 - val_acc: 0.8729\n",
      "Epoch 21/25\n",
      "60732/60732 [==============================] - 38s - loss: 0.0442 - acc: 0.9859 - val_loss: 0.4573 - val_acc: 0.8766\n",
      "Epoch 22/25\n",
      "60732/60732 [==============================] - 38s - loss: 0.0390 - acc: 0.9880 - val_loss: 0.4749 - val_acc: 0.8739\n",
      "Epoch 23/25\n",
      "60732/60732 [==============================] - 38s - loss: 0.0394 - acc: 0.9872 - val_loss: 0.4370 - val_acc: 0.8826\n",
      "Epoch 24/25\n",
      "60732/60732 [==============================] - 38s - loss: 0.0364 - acc: 0.9883 - val_loss: 0.4609 - val_acc: 0.8702\n",
      "Epoch 25/25\n",
      "60732/60732 [==============================] - 38s - loss: 0.0363 - acc: 0.9886 - val_loss: 0.4395 - val_acc: 0.8830\n"
     ]
    },
    {
     "data": {
      "text/plain": [
       "<keras.callbacks.History at 0x7fbbeb0f6b10>"
      ]
     },
     "execution_count": 117,
     "metadata": {},
     "output_type": "execute_result"
    }
   ],
   "source": [
    "denseModelWithoutDropout.fit(predict_5X_augment_train_vgg_conv[:], X5_train_labels_arr,  nb_epoch=25, verbose=1, \n",
    "               validation_data=(predictValidationVggConv,valid_label_arr))"
   ]
  },
  {
   "cell_type": "code",
   "execution_count": 118,
   "metadata": {
    "collapsed": true
   },
   "outputs": [],
   "source": [
    "denseModelWithoutDropout.save_weights('State_Farm_Trained_val_acc_0.8867_over_fit.h5')"
   ]
  },
  {
   "cell_type": "code",
   "execution_count": 120,
   "metadata": {
    "collapsed": false
   },
   "outputs": [],
   "source": [
    "denseModelWithoutDropout.load_weights('State_Farm_Trained_val_acc_0.8867_over_fit.h5')"
   ]
  },
  {
   "cell_type": "code",
   "execution_count": 121,
   "metadata": {
    "collapsed": true
   },
   "outputs": [],
   "source": [
    "def do_clip(arr, mx): return np.clip(arr, ((1-mx)/9.0), mx)"
   ]
  },
  {
   "cell_type": "code",
   "execution_count": 122,
   "metadata": {
    "collapsed": true
   },
   "outputs": [],
   "source": [
    "#Making predictions\n",
    "predictTest = denseModelWithoutDropout.predict(predict_test_on_VggConv)"
   ]
  },
  {
   "cell_type": "code",
   "execution_count": 123,
   "metadata": {
    "collapsed": true
   },
   "outputs": [],
   "source": [
    "clip_test_predict = do_clip(predictTest, 0.93)"
   ]
  },
  {
   "cell_type": "code",
   "execution_count": 124,
   "metadata": {
    "collapsed": false
   },
   "outputs": [
    {
     "data": {
      "text/plain": [
       "array([[ 0.0078,  0.0078,  0.0078,  0.0078,  0.0078,  0.0078,  0.0195,  0.03  ,  0.1232,  0.8266],\n",
       "       [ 0.0078,  0.0078,  0.0078,  0.0078,  0.0078,  0.0078,  0.0078,  0.0078,  0.0078,  0.93  ]], dtype=float32)"
      ]
     },
     "execution_count": 124,
     "metadata": {},
     "output_type": "execute_result"
    }
   ],
   "source": [
    "clip_test_predict[:2]"
   ]
  },
  {
   "cell_type": "code",
   "execution_count": 125,
   "metadata": {
    "collapsed": true
   },
   "outputs": [],
   "source": [
    "classes = sorted(val_batches.class_indices, key=val_batches.class_indices.get)"
   ]
  },
  {
   "cell_type": "code",
   "execution_count": 142,
   "metadata": {
    "collapsed": true
   },
   "outputs": [],
   "source": [
    "subm_with_more_data02 = 'state_farm_more_data.csv'"
   ]
  },
  {
   "cell_type": "code",
   "execution_count": 127,
   "metadata": {
    "collapsed": false
   },
   "outputs": [
    {
     "data": {
      "text/html": [
       "<div>\n",
       "<table border=\"1\" class=\"dataframe\">\n",
       "  <thead>\n",
       "    <tr style=\"text-align: right;\">\n",
       "      <th></th>\n",
       "      <th>c0</th>\n",
       "      <th>c1</th>\n",
       "      <th>c2</th>\n",
       "      <th>c3</th>\n",
       "      <th>c4</th>\n",
       "      <th>c5</th>\n",
       "      <th>c6</th>\n",
       "      <th>c7</th>\n",
       "      <th>c8</th>\n",
       "      <th>c9</th>\n",
       "    </tr>\n",
       "  </thead>\n",
       "  <tbody>\n",
       "    <tr>\n",
       "      <th>0</th>\n",
       "      <td>0.007778</td>\n",
       "      <td>0.007778</td>\n",
       "      <td>0.007778</td>\n",
       "      <td>0.007778</td>\n",
       "      <td>0.007778</td>\n",
       "      <td>0.007778</td>\n",
       "      <td>0.019516</td>\n",
       "      <td>0.030042</td>\n",
       "      <td>0.123151</td>\n",
       "      <td>0.826587</td>\n",
       "    </tr>\n",
       "    <tr>\n",
       "      <th>1</th>\n",
       "      <td>0.007778</td>\n",
       "      <td>0.007778</td>\n",
       "      <td>0.007778</td>\n",
       "      <td>0.007778</td>\n",
       "      <td>0.007778</td>\n",
       "      <td>0.007778</td>\n",
       "      <td>0.007778</td>\n",
       "      <td>0.007778</td>\n",
       "      <td>0.007778</td>\n",
       "      <td>0.930000</td>\n",
       "    </tr>\n",
       "    <tr>\n",
       "      <th>2</th>\n",
       "      <td>0.007778</td>\n",
       "      <td>0.007778</td>\n",
       "      <td>0.007778</td>\n",
       "      <td>0.007778</td>\n",
       "      <td>0.930000</td>\n",
       "      <td>0.007778</td>\n",
       "      <td>0.007778</td>\n",
       "      <td>0.007778</td>\n",
       "      <td>0.007778</td>\n",
       "      <td>0.007778</td>\n",
       "    </tr>\n",
       "    <tr>\n",
       "      <th>3</th>\n",
       "      <td>0.007778</td>\n",
       "      <td>0.007778</td>\n",
       "      <td>0.007778</td>\n",
       "      <td>0.007778</td>\n",
       "      <td>0.007778</td>\n",
       "      <td>0.007778</td>\n",
       "      <td>0.193114</td>\n",
       "      <td>0.007778</td>\n",
       "      <td>0.804440</td>\n",
       "      <td>0.007778</td>\n",
       "    </tr>\n",
       "    <tr>\n",
       "      <th>4</th>\n",
       "      <td>0.007778</td>\n",
       "      <td>0.007778</td>\n",
       "      <td>0.007778</td>\n",
       "      <td>0.007778</td>\n",
       "      <td>0.007778</td>\n",
       "      <td>0.007778</td>\n",
       "      <td>0.007778</td>\n",
       "      <td>0.007778</td>\n",
       "      <td>0.582465</td>\n",
       "      <td>0.408116</td>\n",
       "    </tr>\n",
       "  </tbody>\n",
       "</table>\n",
       "</div>"
      ],
      "text/plain": [
       "         c0        c1        c2        c3        c4        c5        c6  \\\n",
       "0  0.007778  0.007778  0.007778  0.007778  0.007778  0.007778  0.019516   \n",
       "1  0.007778  0.007778  0.007778  0.007778  0.007778  0.007778  0.007778   \n",
       "2  0.007778  0.007778  0.007778  0.007778  0.930000  0.007778  0.007778   \n",
       "3  0.007778  0.007778  0.007778  0.007778  0.007778  0.007778  0.193114   \n",
       "4  0.007778  0.007778  0.007778  0.007778  0.007778  0.007778  0.007778   \n",
       "\n",
       "         c7        c8        c9  \n",
       "0  0.030042  0.123151  0.826587  \n",
       "1  0.007778  0.007778  0.930000  \n",
       "2  0.007778  0.007778  0.007778  \n",
       "3  0.007778  0.804440  0.007778  \n",
       "4  0.007778  0.582465  0.408116  "
      ]
     },
     "execution_count": 127,
     "metadata": {},
     "output_type": "execute_result"
    }
   ],
   "source": [
    "submission = pd.DataFrame(clip_test_predict, columns=classes)\n",
    "submission.head()"
   ]
  },
  {
   "cell_type": "code",
   "execution_count": 141,
   "metadata": {
    "collapsed": false
   },
   "outputs": [
    {
     "data": {
      "text/html": [
       "<div>\n",
       "<table border=\"1\" class=\"dataframe\">\n",
       "  <thead>\n",
       "    <tr style=\"text-align: right;\">\n",
       "      <th></th>\n",
       "      <th>img</th>\n",
       "      <th>c0</th>\n",
       "      <th>c1</th>\n",
       "      <th>c2</th>\n",
       "      <th>c3</th>\n",
       "      <th>c4</th>\n",
       "      <th>c5</th>\n",
       "      <th>c6</th>\n",
       "      <th>c7</th>\n",
       "      <th>c8</th>\n",
       "      <th>c9</th>\n",
       "    </tr>\n",
       "  </thead>\n",
       "  <tbody>\n",
       "    <tr>\n",
       "      <th>0</th>\n",
       "      <td>img_81601.jpg</td>\n",
       "      <td>0.007778</td>\n",
       "      <td>0.007778</td>\n",
       "      <td>0.007778</td>\n",
       "      <td>0.007778</td>\n",
       "      <td>0.007778</td>\n",
       "      <td>0.007778</td>\n",
       "      <td>0.019516</td>\n",
       "      <td>0.030042</td>\n",
       "      <td>0.123151</td>\n",
       "      <td>0.826587</td>\n",
       "    </tr>\n",
       "    <tr>\n",
       "      <th>1</th>\n",
       "      <td>img_14887.jpg</td>\n",
       "      <td>0.007778</td>\n",
       "      <td>0.007778</td>\n",
       "      <td>0.007778</td>\n",
       "      <td>0.007778</td>\n",
       "      <td>0.007778</td>\n",
       "      <td>0.007778</td>\n",
       "      <td>0.007778</td>\n",
       "      <td>0.007778</td>\n",
       "      <td>0.007778</td>\n",
       "      <td>0.930000</td>\n",
       "    </tr>\n",
       "    <tr>\n",
       "      <th>2</th>\n",
       "      <td>img_62885.jpg</td>\n",
       "      <td>0.007778</td>\n",
       "      <td>0.007778</td>\n",
       "      <td>0.007778</td>\n",
       "      <td>0.007778</td>\n",
       "      <td>0.930000</td>\n",
       "      <td>0.007778</td>\n",
       "      <td>0.007778</td>\n",
       "      <td>0.007778</td>\n",
       "      <td>0.007778</td>\n",
       "      <td>0.007778</td>\n",
       "    </tr>\n",
       "    <tr>\n",
       "      <th>3</th>\n",
       "      <td>img_45125.jpg</td>\n",
       "      <td>0.007778</td>\n",
       "      <td>0.007778</td>\n",
       "      <td>0.007778</td>\n",
       "      <td>0.007778</td>\n",
       "      <td>0.007778</td>\n",
       "      <td>0.007778</td>\n",
       "      <td>0.193114</td>\n",
       "      <td>0.007778</td>\n",
       "      <td>0.804440</td>\n",
       "      <td>0.007778</td>\n",
       "    </tr>\n",
       "    <tr>\n",
       "      <th>4</th>\n",
       "      <td>img_22633.jpg</td>\n",
       "      <td>0.007778</td>\n",
       "      <td>0.007778</td>\n",
       "      <td>0.007778</td>\n",
       "      <td>0.007778</td>\n",
       "      <td>0.007778</td>\n",
       "      <td>0.007778</td>\n",
       "      <td>0.007778</td>\n",
       "      <td>0.007778</td>\n",
       "      <td>0.582465</td>\n",
       "      <td>0.408116</td>\n",
       "    </tr>\n",
       "  </tbody>\n",
       "</table>\n",
       "</div>"
      ],
      "text/plain": [
       "             img        c0        c1        c2        c3        c4        c5  \\\n",
       "0  img_81601.jpg  0.007778  0.007778  0.007778  0.007778  0.007778  0.007778   \n",
       "1  img_14887.jpg  0.007778  0.007778  0.007778  0.007778  0.007778  0.007778   \n",
       "2  img_62885.jpg  0.007778  0.007778  0.007778  0.007778  0.930000  0.007778   \n",
       "3  img_45125.jpg  0.007778  0.007778  0.007778  0.007778  0.007778  0.007778   \n",
       "4  img_22633.jpg  0.007778  0.007778  0.007778  0.007778  0.007778  0.007778   \n",
       "\n",
       "         c6        c7        c8        c9  \n",
       "0  0.019516  0.030042  0.123151  0.826587  \n",
       "1  0.007778  0.007778  0.007778  0.930000  \n",
       "2  0.007778  0.007778  0.007778  0.007778  \n",
       "3  0.193114  0.007778  0.804440  0.007778  \n",
       "4  0.007778  0.007778  0.582465  0.408116  "
      ]
     },
     "execution_count": 141,
     "metadata": {},
     "output_type": "execute_result"
    }
   ],
   "source": [
    "submission.insert(0, 'img', [a[8:] for a in test_file_names_arr])\n",
    "submission.head()"
   ]
  },
  {
   "cell_type": "code",
   "execution_count": 143,
   "metadata": {
    "collapsed": true
   },
   "outputs": [],
   "source": [
    "submission.to_csv(subm_with_more_data02, index=False)"
   ]
  },
  {
   "cell_type": "code",
   "execution_count": 137,
   "metadata": {
    "collapsed": false
   },
   "outputs": [
    {
     "data": {
      "text/plain": [
       "u'/home/ubuntu/courses/deeplearning1/nbs'"
      ]
     },
     "execution_count": 137,
     "metadata": {},
     "output_type": "execute_result"
    }
   ],
   "source": [
    "%pwd"
   ]
  },
  {
   "cell_type": "code",
   "execution_count": 138,
   "metadata": {
    "collapsed": false
   },
   "outputs": [
    {
     "data": {
      "text/html": [
       "Path (<tt>/data/statefarm/More_data_data.csv</tt>) doesn't exist. It may still be in the process of being generated, or you may have the incorrect path."
      ],
      "text/plain": [
       "/data/statefarm/More_data_data.csv"
      ]
     },
     "execution_count": 138,
     "metadata": {},
     "output_type": "execute_result"
    }
   ],
   "source": [
    "FileLink('/data/statefarm/'+subm_with_more_data)"
   ]
  },
  {
   "cell_type": "markdown",
   "metadata": {
    "collapsed": true
   },
   "source": [
    "# Pseudo Labeling"
   ]
  },
  {
   "cell_type": "code",
   "execution_count": 10,
   "metadata": {
    "collapsed": false
   },
   "outputs": [],
   "source": [
    "pseudo_val = load_array(\"predictValidationVggConv\")"
   ]
  },
  {
   "cell_type": "code",
   "execution_count": 11,
   "metadata": {
    "collapsed": true
   },
   "outputs": [],
   "source": [
    "predict_5X_augment_train_vgg_conv = load_carray('predict_5X_augment_train_vgg_conv.dat')"
   ]
  },
  {
   "cell_type": "code",
   "execution_count": 14,
   "metadata": {
    "collapsed": false
   },
   "outputs": [
    {
     "ename": "MemoryError",
     "evalue": "",
     "output_type": "error",
     "traceback": [
      "\u001b[0;31m---------------------------------------------------------------------------\u001b[0m",
      "\u001b[0;31mMemoryError\u001b[0m                               Traceback (most recent call last)",
      "\u001b[0;32m<ipython-input-14-dc4dd22f934f>\u001b[0m in \u001b[0;36m<module>\u001b[0;34m()\u001b[0m\n\u001b[0;32m----> 1\u001b[0;31m \u001b[0mconv_presudo\u001b[0m \u001b[0;34m=\u001b[0m\u001b[0mnp\u001b[0m\u001b[0;34m.\u001b[0m\u001b[0mconcatenate\u001b[0m\u001b[0;34m(\u001b[0m\u001b[0;34m[\u001b[0m\u001b[0mpredict_5X_augment_train_vgg_conv\u001b[0m\u001b[0;34m,\u001b[0m\u001b[0mpseudo_val\u001b[0m\u001b[0;34m]\u001b[0m\u001b[0;34m)\u001b[0m\u001b[0;34m\u001b[0m\u001b[0m\n\u001b[0m",
      "\u001b[0;31mMemoryError\u001b[0m: "
     ]
    }
   ],
   "source": [
    "train_w_pasudo_input = predict_test_on_VggConv.copy()"
   ]
  },
  {
   "cell_type": "code",
   "execution_count": null,
   "metadata": {
    "collapsed": true
   },
   "outputs": [],
   "source": []
  }
 ],
 "metadata": {
  "anaconda-cloud": {},
  "kernelspec": {
   "display_name": "Python [conda root]",
   "language": "python",
   "name": "conda-root-py"
  },
  "language_info": {
   "codemirror_mode": {
    "name": "ipython",
    "version": 2
   },
   "file_extension": ".py",
   "mimetype": "text/x-python",
   "name": "python",
   "nbconvert_exporter": "python",
   "pygments_lexer": "ipython2",
   "version": "2.7.12"
  }
 },
 "nbformat": 4,
 "nbformat_minor": 1
}
